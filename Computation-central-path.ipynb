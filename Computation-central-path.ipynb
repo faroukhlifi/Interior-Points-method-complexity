{
 "cells": [
  {
   "cell_type": "markdown",
   "metadata": {},
   "source": [
    "#### Farouk Khlifi and Adrien Lemercier, Ecole Polytechnique, December 2020\n",
    "#### Under the supervision of prof. Xavier Allamigeon and prof. Stéphane Gaubert"
   ]
  },
  {
   "cell_type": "markdown",
   "metadata": {},
   "source": [
    "# Computation of central path"
   ]
  },
  {
   "cell_type": "markdown",
   "metadata": {},
   "source": [
    "First, let's import the needed packages "
   ]
  },
  {
   "cell_type": "code",
   "execution_count": 1,
   "metadata": {},
   "outputs": [],
   "source": [
    "using LinearAlgebra\n",
    "using PolynomialRoots\n",
    "import Distances\n",
    "using Plots\n",
    "using Printf\n",
    "using DelimitedFiles"
   ]
  },
  {
   "cell_type": "markdown",
   "metadata": {},
   "source": [
    "Precison for BigFloat"
   ]
  },
  {
   "cell_type": "code",
   "execution_count": 2,
   "metadata": {},
   "outputs": [
    {
     "data": {
      "text/plain": [
       "200"
      ]
     },
     "execution_count": 2,
     "metadata": {},
     "output_type": "execute_result"
    }
   ],
   "source": [
    "setprecision(200)"
   ]
  },
  {
   "cell_type": "markdown",
   "metadata": {},
   "source": [
    "## I. Lewis weights "
   ]
  },
  {
   "cell_type": "markdown",
   "metadata": {},
   "source": [
    "This section contains functions that will be used later as Lewis weights play a key role in Lee $\\&$ Sideford paper."
   ]
  },
  {
   "cell_type": "markdown",
   "metadata": {},
   "source": [
    "The first two functions simply compute the Lewis weights from a matrix $A$. The algorithm is from \"Lp Row Sampling by Lewis Weights\" by Cohen and Peng that converges polynomially fast for $p<2$ (contraction argument). It is valid for $p<4$."
   ]
  },
  {
   "cell_type": "code",
   "execution_count": 3,
   "metadata": {},
   "outputs": [
    {
     "data": {
      "text/plain": [
       "LewisIterate (generic function with 1 method)"
      ]
     },
     "execution_count": 3,
     "metadata": {},
     "output_type": "execute_result"
    }
   ],
   "source": [
    "function LewisIterate(A::Array{BigFloat},p,w::Array{BigFloat})\n",
    "\n",
    "    W_pow = zeros(BigFloat, size(A)[1],size(A)[1])\n",
    "    for i = 1: size(A)[1]\n",
    "        W_pow[i,i] = w[i]^(1/2.0-1/p) \n",
    "    end\n",
    "    \n",
    "    B = W_pow*A\n",
    "    Sigma = B*inv(B' *B)*B'\n",
    "\n",
    "    w_ret = zeros(BigFloat, size(A)[1])\n",
    "    for i = 1: size(A)[1]\n",
    "        w_ret[i] = (w[i]^(1-2/p)*Sigma[i,i])^(p/2) \n",
    "    end\n",
    "\n",
    "    return w_ret\n",
    "end"
   ]
  },
  {
   "cell_type": "code",
   "execution_count": 4,
   "metadata": {},
   "outputs": [
    {
     "data": {
      "text/plain": [
       "ApproxLewisWeights (generic function with 1 method)"
      ]
     },
     "execution_count": 4,
     "metadata": {},
     "output_type": "execute_result"
    }
   ],
   "source": [
    "function ApproxLewisWeights(A::Array{BigFloat},p,T)\n",
    "    \n",
    "    w = ones(BigFloat, size(A)[1])\n",
    "    for i= 1:T\n",
    "        w = LewisIterate(A,p,w)\n",
    "    end\n",
    "    return w\n",
    "end"
   ]
  },
  {
   "cell_type": "markdown",
   "metadata": {},
   "source": [
    "Note : the closer $p$ is to 4, the longer the convegence."
   ]
  },
  {
   "cell_type": "markdown",
   "metadata": {},
   "source": [
    "The following function estimates the valuation of the Lewis weights (this time the coefficients of matrix $A$ are understood as the valuations of elments of the field of Puiseux series). This function will not be used in what follows."
   ]
  },
  {
   "cell_type": "code",
   "execution_count": 5,
   "metadata": {},
   "outputs": [
    {
     "data": {
      "text/plain": [
       "ApproxLewisWeightsValuation (generic function with 1 method)"
      ]
     },
     "execution_count": 5,
     "metadata": {},
     "output_type": "execute_result"
    }
   ],
   "source": [
    "function ApproxLewisWeightsValuation(A::Array{BigFloat},p,T,t::BigFloat, eps::BigFloat)\n",
    "    if length(size(A)) == 1\n",
    "        m = size(A)[1]\n",
    "        n = 1\n",
    "    else\n",
    "        m = size(A)[1]\n",
    "        n = size(A)[2]\n",
    "    end\n",
    "    delta = 1\n",
    "    i=0\n",
    "    B = ones(BigFloat,m,n)\n",
    "    while delta > eps\n",
    "        i += 1\n",
    "        for k= 1:m\n",
    "            for j=1:n\n",
    "                B[k,j] = t ^ (i*A[k,j])\n",
    "            end\n",
    "        end\n",
    "        w = ApproxLewisWeights(B,p,T)\n",
    "        if i>1\n",
    "            u_old = u\n",
    "        end\n",
    "        global u = [log(w[k])/(i*log(t)) for k=1:m]\n",
    "        if i>1\n",
    "            delta = sum(broadcast(abs,u - u_old))\n",
    "        end\n",
    "    end\n",
    "    return u\n",
    "end"
   ]
  },
  {
   "cell_type": "markdown",
   "metadata": {},
   "source": [
    "## II. Central path"
   ]
  },
  {
   "cell_type": "markdown",
   "metadata": {},
   "source": [
    "In what follows, the equality constraints are in the form $A^{T}x = b$"
   ]
  },
  {
   "cell_type": "markdown",
   "metadata": {},
   "source": [
    "### 1. Setting the parameters"
   ]
  },
  {
   "cell_type": "markdown",
   "metadata": {},
   "source": [
    "We create functions that give the constraint matrix $A$, the vector of contraints $b$ and the vector $c$ used in the objective function $c \\cdot x$ for some linear programs."
   ]
  },
  {
   "cell_type": "markdown",
   "metadata": {},
   "source": [
    "First, the conter-example of the paper of Xavier Allamigeon et al."
   ]
  },
  {
   "cell_type": "code",
   "execution_count": 6,
   "metadata": {},
   "outputs": [
    {
     "data": {
      "text/plain": [
       "LW_ineq (generic function with 1 method)"
      ]
     },
     "execution_count": 6,
     "metadata": {},
     "output_type": "execute_result"
    }
   ],
   "source": [
    "function LW_ineq(r::Int64,t_puiseux::BigFloat)\n",
    "\n",
    "    A = zeros(BigFloat, 3r+1,2r)\n",
    "    b = zeros(BigFloat, 3r+1,1)\n",
    "    c = zeros(BigFloat, 2r,1)\n",
    "    \n",
    "    # defining A\n",
    "    A[1,1], A[2,2] = 1 , 1\n",
    "    A[3r,2r-1], A[3r+1,2r] = -1 , -1\n",
    "    for j = 1:r-1\n",
    "        A[3j,2j-1] ,   A[3j,2j+1] =  -t_puiseux , 1\n",
    "        A[3j+1 ,2j],   A[3j+1 ,2j+1] =  -t_puiseux , 1\n",
    "        A[3j+2 ,2j-1], A[3j+2,2j] , A[3j+2 ,2j+2] =  -t_puiseux^(1 - 2.0^(-j)) , -t_puiseux^(1 - 2.0 ^(-j)) , 1\n",
    "    end\n",
    "    \n",
    "    #defining b\n",
    "    b[1],b[2] = t_puiseux^2.0, t_puiseux\n",
    "    \n",
    "    #defining c\n",
    "    c[1] = 1\n",
    "\n",
    "    return (A,b,c)\n",
    "end"
   ]
  },
  {
   "cell_type": "code",
   "execution_count": 7,
   "metadata": {},
   "outputs": [
    {
     "data": {
      "text/plain": [
       "LW_eq (generic function with 1 method)"
      ]
     },
     "execution_count": 7,
     "metadata": {},
     "output_type": "execute_result"
    }
   ],
   "source": [
    "function LW_eq(r::Int64,t_puiseux::BigFloat)\n",
    "\n",
    "    A,b,c = LW_ineq(r,t_puiseux)\n",
    "\n",
    "    big_A = zeros(BigFloat, 3r+1,5r+1)\n",
    "    big_c = zeros(BigFloat, 5r+1,1)\n",
    "\n",
    "    big_A[1:3r+1,1:2r] = A\n",
    "    big_A[1:3r+1,2r+1:5r+1] = Matrix{BigFloat}(I, 3r+1, 3r+1)\n",
    "\n",
    "    big_c[1:2r] = c\n",
    "\n",
    "    return (big_A',b,big_c)  # transposition because of the convention A^{T}x = b\n",
    "end"
   ]
  },
  {
   "cell_type": "markdown",
   "metadata": {},
   "source": [
    "Another linear program which we used as a first test for our numerical scheme."
   ]
  },
  {
   "cell_type": "code",
   "execution_count": 8,
   "metadata": {},
   "outputs": [
    {
     "data": {
      "text/plain": [
       "EX_eq (generic function with 1 method)"
      ]
     },
     "execution_count": 8,
     "metadata": {},
     "output_type": "execute_result"
    }
   ],
   "source": [
    "function EX_eq(t_puiseux)\n",
    "    \n",
    "    A = zeros(BigFloat, 4,6)\n",
    "    b = zeros(BigFloat, 4,1)\n",
    "    c = zeros(BigFloat, 6,1)\n",
    "    A[1, 1], A[1, 2], A[1, 3] = 1, 1, 1\n",
    "    A[2, 1], A[2, 2], A[2, 4] = t_puiseux, -t_puiseux^2, 1\n",
    "    A[3, 1], A[3, 2], A[3, 5] = -t_puiseux^3, t_puiseux, 1\n",
    "    A[4, 1], A[4, 2], A[4, 6] = 1, -t_puiseux^2, 1\n",
    "    b[1] = 2\n",
    "    b[2] = 1\n",
    "    b[3] = 1\n",
    "    c[1] = 1\n",
    "    c[2] = t_puiseux^3\n",
    "    \n",
    "    return (A',b,c)\n",
    "end"
   ]
  },
  {
   "cell_type": "markdown",
   "metadata": {},
   "source": [
    "Finally, we define ALL the problem parameters as global variables."
   ]
  },
  {
   "cell_type": "code",
   "execution_count": 9,
   "metadata": {},
   "outputs": [
    {
     "data": {
      "text/plain": [
       "10"
      ]
     },
     "execution_count": 9,
     "metadata": {},
     "output_type": "execute_result"
    }
   ],
   "source": [
    "r = 3\n",
    "t_puiseux = big(10.0^4)\n",
    "\n",
    "X = LW_eq(r, t_puiseux)\n",
    "A = X[1]\n",
    "b = X[2]\n",
    "c = X[3]\n",
    "\n",
    "m = size(A')[1]\n",
    "n = size(A')[2]\n",
    "p = 1 - 1/(log(4*m))\n",
    "\n",
    "T = 10    # for Lewis weights computation"
   ]
  },
  {
   "cell_type": "markdown",
   "metadata": {},
   "source": [
    "### 2. Tools"
   ]
  },
  {
   "cell_type": "markdown",
   "metadata": {},
   "source": [
    "First, the function that expresses the weights of the barrier in function of $x$, relying on previous functions that estimate Lewis weights."
   ]
  },
  {
   "cell_type": "code",
   "execution_count": 10,
   "metadata": {},
   "outputs": [
    {
     "data": {
      "text/plain": [
       "ApproxLewisWeightsx (generic function with 1 method)"
      ]
     },
     "execution_count": 10,
     "metadata": {},
     "output_type": "execute_result"
    }
   ],
   "source": [
    "function ApproxLewisWeightsx(A, p, T, x)\n",
    "    \n",
    "    Diag = zeros(BigFloat, size(A)[1], size(A)[1])\n",
    "    for i = 1: size(A)[1]\n",
    "        Diag[i,i] = x[i]\n",
    "    end\n",
    "    \n",
    "    A_x = Diag*A\n",
    "    c_0 = zeros(BigFloat,size(A)[1])\n",
    "    for i =1: size(A)[1]\n",
    "        try\n",
    "            c_0[i] = size(A)[2]/(2* size(A)[1])\n",
    "        \n",
    "        catch\n",
    "            c_0[i] = 1/(2* size(A)[1])\n",
    "        end\n",
    "    end\n",
    "    return ApproxLewisWeights(A_x, p, T)+c_0\n",
    "end"
   ]
  },
  {
   "cell_type": "code",
   "execution_count": 11,
   "metadata": {},
   "outputs": [
    {
     "data": {
      "text/plain": [
       "projector (generic function with 1 method)"
      ]
     },
     "execution_count": 11,
     "metadata": {},
     "output_type": "execute_result"
    }
   ],
   "source": [
    "function projector(A::Array{BigFloat}) \n",
    "    \n",
    "    # projector onto A^T kernel\n",
    "    # We make the following assumptions :\n",
    "    # - A^T is rectangular, with more columns than lines\n",
    "    # - A^T has full line rank\n",
    "    \n",
    "    n = size(A)[1]\n",
    "    ans = Matrix{BigFloat}(I, n, n) - A*(inv(A'*A))*A'\n",
    "    return ans\n",
    "end"
   ]
  },
  {
   "cell_type": "markdown",
   "metadata": {},
   "source": [
    "A function that gives an initial point in the domain $A^{T}x = b$, $x\\ge0$."
   ]
  },
  {
   "cell_type": "code",
   "execution_count": 12,
   "metadata": {},
   "outputs": [
    {
     "data": {
      "text/plain": [
       "x_init (generic function with 1 method)"
      ]
     },
     "execution_count": 12,
     "metadata": {},
     "output_type": "execute_result"
    }
   ],
   "source": [
    "function x_init()  # A in BigFloat\n",
    "    \n",
    "    # We make the assumption that A^T \"comes\" from an inequality matrix,\n",
    "    # i.e. slack vraiables have been added to vector x and A has been modified\n",
    "    # accordingly (an identity matrix has been added on the right)\n",
    "    \n",
    "    m = size(A')[1]\n",
    "    n = size(A')[2]\n",
    "    B = ones(BigFloat,m,n-m)\n",
    "    for k=1:m\n",
    "        for j=1:n-m\n",
    "            B[k,j] = A'[k,j]\n",
    "        end        \n",
    "    end\n",
    "    a = 1.0\n",
    "    bool = false\n",
    "    while ! bool\n",
    "        a = a/2\n",
    "        x = ones(n-m,1)\n",
    "        for k=1:n-m\n",
    "            x[k]=a\n",
    "        end\n",
    "        c = B*x\n",
    "        d = true\n",
    "        for k=1:m\n",
    "            if c[k]>b[k]\n",
    "                d = false\n",
    "            end\n",
    "        end\n",
    "        bool = d\n",
    "    end\n",
    "    ans = ones(BigFloat,n,1)\n",
    "    for k=1:n-m\n",
    "        ans[k]=a\n",
    "    end\n",
    "    for k=1:m\n",
    "        ans[n-m+k] = b[k] - (B*ans[1:n-m])[k]\n",
    "    end\n",
    "    return ans\n",
    "end"
   ]
  },
  {
   "cell_type": "markdown",
   "metadata": {},
   "source": [
    "### 3. drawing the central path"
   ]
  },
  {
   "cell_type": "markdown",
   "metadata": {},
   "source": [
    "Function which gives a good \"starting couple\" $(x,w)$, near the analytic center, for the ascending part leading to a point on the central path. We use an idea presented in Lee and Sidford paper: apply the main part of their algorithm, but with decreasing values of $t$."
   ]
  },
  {
   "cell_type": "code",
   "execution_count": 13,
   "metadata": {},
   "outputs": [
    {
     "data": {
      "text/plain": [
       "x_init_pauses (generic function with 1 method)"
      ]
     },
     "execution_count": 13,
     "metadata": {},
     "output_type": "execute_result"
    }
   ],
   "source": [
    "function x_init_pauses(t1, alpha, lam1, u_bound, eps)\n",
    "    x_0 = x_init()\n",
    "    # println(\"initial x : \", x_0)\n",
    "    w = ApproxLewisWeightsx(A,p,T,x_0)\n",
    "    d = ones(BigFloat,n,1)\n",
    "    for k=1:n\n",
    "        d[k] = w[k]/x_0[k]\n",
    "    end\n",
    "    t = big(1.0)\n",
    "    x = x_0\n",
    "    count = 0\n",
    "    delta = [1.]\n",
    "    # println(\"d : \",d)\n",
    "    # println()\n",
    "    while t > t1 \n",
    "        \n",
    "        if sum(broadcast(abs,delta))>u_bound\n",
    "            println(\"have made a stop in the decreasing part\")\n",
    "            while sum(broadcast(abs,delta))> eps\n",
    "\n",
    "                grad = ones(BigFloat, n,1)\n",
    "                inv_hess = zeros(BigFloat, n,n)\n",
    "                for i = 1:n\n",
    "                    grad[i] = t*d[i] - w[i]/x[i]    #  !!!!! vector d, not c\n",
    "                end\n",
    "                for i = 1:n\n",
    "                    inv_hess[i,i] = x[i]^2/w[i]\n",
    "                end\n",
    "                y = inv(A'*inv_hess*A)*(A'*inv_hess*grad)    # solve linear system\n",
    "                delta = inv_hess*(A*y - grad)                # Newton's step under constraint\n",
    "\n",
    "                x = x + lam1*delta                           # update x\n",
    "\n",
    "                w = ApproxLewisWeightsx(A,p,T,x)             # update w\n",
    "                print(\"  \")\n",
    "            end\n",
    "            count =0  \n",
    "        end\n",
    "        \n",
    "        grad = ones(BigFloat, n,1)\n",
    "        inv_hess = zeros(BigFloat, n,n)\n",
    "        for i = 1:n\n",
    "            grad[i] = t*d[i] - w[i]/x[i]    #  !!!!! d instead of c\n",
    "        end\n",
    "        for i = 1:n\n",
    "            inv_hess[i,i] = x[i]^2/w[i]\n",
    "        end\n",
    "        y = inv(A'*inv_hess*A)*(A'*inv_hess*grad)    # solve linear system\n",
    "        delta = inv_hess*(A*y - grad)                # Newton's step under constraint\n",
    "        \n",
    "        x = x + lam1*delta                           # update x\n",
    "\n",
    "        w = ApproxLewisWeightsx(A,p,T,x)             # update w\n",
    "        \n",
    "        t = t*(1-alpha)                              # update t\n",
    "        \n",
    "        \n",
    "        # to monitor t, useful in practice\n",
    "        \"\"\"\n",
    "        if count%100==0 \n",
    "            println(\"delta norm : \",sum(broadcast(abs,delta)))\n",
    "            println(\"t : \",t)\n",
    "        end\n",
    "        \"\"\"\n",
    "        count = count+1\n",
    "    end\n",
    "\n",
    "    return x,w\n",
    "end"
   ]
  },
  {
   "cell_type": "markdown",
   "metadata": {},
   "source": [
    "A function that computes central path points associated to the times in Time."
   ]
  },
  {
   "cell_type": "code",
   "execution_count": 14,
   "metadata": {},
   "outputs": [
    {
     "data": {
      "text/plain": [
       "central_path (generic function with 1 method)"
      ]
     },
     "execution_count": 14,
     "metadata": {},
     "output_type": "execute_result"
    }
   ],
   "source": [
    "function central_path(Time, t1, alpha, lam1, lam2, u_bound, eps)\n",
    "\n",
    "    l = size(Time)[1]\n",
    "    x, w = x_init_pauses(t1, alpha, lam1, u_bound, eps)\n",
    "    jo = size(x)[1]\n",
    "    ans = ones(jo, l)\n",
    "    t = t1\n",
    "    delta = [1.0]\n",
    "    counter = 0\n",
    "    \n",
    "    for i = 1:l\n",
    "        while Time[i] > t\n",
    "            grad = ones(BigFloat, n,1)\n",
    "            inv_hess = zeros(BigFloat, n,n)\n",
    "            for i = 1:n\n",
    "                grad[i] = t*c[i] - w[i]/x[i]    #  !!!!! the real c of the objective function\n",
    "            end\n",
    "            for i = 1:n\n",
    "                inv_hess[i,i] = x[i]^2/w[i]\n",
    "            end\n",
    "            y = inv(A'*inv_hess*A)*(A'*inv_hess*grad)    # solve linear system\n",
    "            delta = inv_hess*(A*y - grad)                # Newton's step under constraint\n",
    "\n",
    "            x = x + lam1*delta                           # update x\n",
    "\n",
    "            w = ApproxLewisWeightsx(A,p,T,x)             # update w\n",
    "\n",
    "            t = t*(1+alpha)                              # update t\n",
    "            \n",
    "            \"\"\"\n",
    "            if counter%100 == 0\n",
    "                println(\"t : \", t)\n",
    "                println(\"delta norm : \", sum(broadcast(abs,delta)))\n",
    "            end\n",
    "            \"\"\"\n",
    "            counter = counter+1\n",
    "        end\n",
    "\n",
    "        t = Time[i]\n",
    "\n",
    "        while sum(broadcast(abs,delta))> eps\n",
    "            grad = ones(BigFloat, n,1)\n",
    "            inv_hess = zeros(BigFloat, n,n)\n",
    "            for i = 1:n\n",
    "                grad[i] = t*c[i] - w[i]/x[i]    #  !!!!! the real c of the objective function\n",
    "            end\n",
    "            for i = 1:n\n",
    "                inv_hess[i,i] = x[i]^2/w[i]\n",
    "            end\n",
    "            y = inv(A'*inv_hess*A)*(A'*inv_hess*grad)    # solve linear system\n",
    "            delta = inv_hess*(A*y - grad)                # Newton's step under constraint\n",
    "\n",
    "            x = x + lam2*delta                  # update x, lam2 here and not lam1\n",
    "\n",
    "            w = ApproxLewisWeightsx(A,p,T,x)    # update w\n",
    "            \n",
    "            \"\"\"\n",
    "            if counter%100 ==0    # PAS EN DUR\n",
    "                println(\"inside while : \", sum(broadcast(abs,delta)))\n",
    "            end\n",
    "            \"\"\"\n",
    "            counter = counter +1\n",
    "        end\n",
    "        \n",
    "        println(\"outside while, t = \", Time[i])\n",
    "        \n",
    "        for j = 1:jo          # x stocken in columns in ans\n",
    "            ans[j,i] = x[j]\n",
    "        end\n",
    "        \n",
    "    end\n",
    "    \n",
    "    # Post-processing part\n",
    "    \n",
    "    # We stock the two last coordinates of the original vector x, as well as their\n",
    "    # values under log in t_puiseux base\n",
    "\n",
    "    x = ones(l, 2)\n",
    "    log_x = ones(l, 2)\n",
    "    for i=1:l\n",
    "        x[i, 1] = ans[2*r-1,i]\n",
    "        x[i, 2] = ans[2*r,i]\n",
    "    end  \n",
    "    for i=1:l\n",
    "        log_x[i, 1] = log(t_puiseux,ans[2*r-1,i])\n",
    "        log_x[i, 2] = log(t_puiseux,ans[2*r,i])\n",
    "    end\n",
    "    \n",
    "    # To save the data\n",
    "    # writedlm(\"central-path.csv\", x, \", \")\n",
    "    # writedlm(\"log-central-path.csv\", log_x, \", \")\n",
    "    \n",
    "    # To plot what we have computed\n",
    "\n",
    "    \"\"\"\n",
    "    s1 = scatter(x[:,1], x[:,2], markersize = 5, markercolor=:red, xlabel=\"x2r-1\", \n",
    "        ylabel=\"x2r\", title=\"central path\", legend=false, dpi=100)  \n",
    "    s2 = scatter(log_x[:,1], log_x[:,2], markersize = 5, markercolor=:blue, xlabel=\"log_x2r-1\", \n",
    "        ylabel=\"log_x2r\", title=\"log central path\",legend=false, dpi=100)\n",
    "    plot(s1,s2, layout=(2,1))\n",
    "    \"\"\"\n",
    "    \n",
    "    s = scatter(log_x[:,1], log_x[:,2], markersize = 5, markercolor=:blue, xlabel=\"log(x_{2r-1})\", \n",
    "        ylabel=\"log(x_{2r})\", title=\"log central path\",legend=false, dpi=100)\n",
    "    plot(s)\n",
    "\n",
    "end"
   ]
  },
  {
   "cell_type": "markdown",
   "metadata": {},
   "source": [
    "We apply our numerical scheme on the counterexample."
   ]
  },
  {
   "cell_type": "code",
   "execution_count": 15,
   "metadata": {},
   "outputs": [
    {
     "name": "stdout",
     "output_type": "stream",
     "text": [
      "outside while, t = 9.9999999999999999999999999999999999999999999999999999999999962e-09\n",
      "outside while, t = 1.5848931924611108921819461927240106480883442917389322696882115e-08\n",
      "outside while, t = 2.5118864315095770288400381725736925726318359008493804843712366e-08\n",
      "outside while, t = 3.9810717055349692510164508362839201984121141901911915093542708e-08\n",
      "outside while, t = 6.3095734448019299135938084483070983411623935356959945133214536e-08\n",
      "outside while, t = 1.0000000000000000000000000000000000000000000000000000000000004e-07\n",
      "outside while, t = 1.5848931924611108921819461927240106480883442917389322696882123e-07\n",
      "outside while, t = 2.5118864315095770288400381725736925726318359008493804843712374e-07\n",
      "outside while, t = 3.9810717055349692510164508362839201984121141901911915093542731e-07\n",
      "outside while, t = 6.3095734448019299135938084483070983411623935356959945133214551e-07\n",
      "outside while, t = 1.0000000000000000000000000000000000000000000000000000000000002e-06\n",
      "outside while, t = 1.5848931924611108921819461927240106480883442917389322696882123e-06\n",
      "outside while, t = 2.5118864315095770288400381725736925726318359008493804843712368e-06\n",
      "outside while, t = 3.9810717055349692510164508362839201984121141901911915093542742e-06\n",
      "outside while, t = 6.3095734448019299135938084483070983411623935356959945133214504e-06\n",
      "outside while, t = 1.0000000000000000000000000000000000000000000000000000000000002e-05\n",
      "outside while, t = 1.5848931924611108921819461927240106480883442917389322696882125e-05\n",
      "outside while, t = 2.5118864315095770288400381725736925726318359008493804843712368e-05\n",
      "outside while, t = 3.9810717055349692510164508362839201984121141901911915093542733e-05\n",
      "outside while, t = 6.3095734448019299135938084483070983411623935356959945133214532e-05\n",
      "outside while, t = 9.9999999999999999999999999999999999999999999999999999999999983e-05\n",
      "outside while, t = 0.00015848931924611125128195431806406987198809231062668839965953138\n",
      "outside while, t = 0.00025118864315095795973775330852614589439486606567544594360914683\n",
      "outside while, t = 0.0003981071705534969251016450836283920198412114190191191509354271\n",
      "outside while, t = 0.00063095734448019299135938084483070983411623935356959945133214517\n",
      "outside while, t = 0.0010000000000000000000000000000000000000000000000000000000000006\n",
      "outside while, t = 0.0015848931924611125128195431806406987198809231062668839965953135\n",
      "outside while, t = 0.0025118864315095795973775330852614589439486606567544594360914701\n",
      "outside while, t = 0.0039810717055349692510164508362839201984121141901911915093542747\n",
      "outside while, t = 0.0063095734448019299135938084483070983411623935356959945133214541\n",
      "outside while, t = 0.010000000000000000000000000000000000000000000000000000000000004\n",
      "outside while, t = 0.015848931924611133231383416745996642013342216844795090998576785\n",
      "outside while, t = 0.025118864315095795973775330852614589439486606567544594360914686\n",
      "outside while, t = 0.039810717055349712864452459704046081460700096543537390205348841\n",
      "outside while, t = 0.063095734448019299135938084483070983411623935356959945133214551\n",
      "outside while, t = 0.10000000000000000000000000000000000000000000000000000000000002\n",
      "outside while, t = 0.15848931924611133231383416745996642013342216844795090998576785\n",
      "outside while, t = 0.25118864315095795973775330852614589439486606567544594360914706\n",
      "outside while, t = 0.39810717055349723041596435374653423700646006990240939023754951\n",
      "outside while, t = 0.63095734448019323330467393088536364523899671367111646431464752\n",
      "outside while, t = 1.0\n"
     ]
    },
    {
     "data": {
      "image/svg+xml": [
       "<?xml version=\"1.0\" encoding=\"utf-8\"?>\n",
       "<svg xmlns=\"http://www.w3.org/2000/svg\" xmlns:xlink=\"http://www.w3.org/1999/xlink\" width=\"600\" height=\"400\" viewBox=\"0 0 2400 1600\">\n",
       "<defs>\n",
       "  <clipPath id=\"clip780\">\n",
       "    <rect x=\"0\" y=\"0\" width=\"2400\" height=\"1600\"/>\n",
       "  </clipPath>\n",
       "</defs>\n",
       "<path clip-path=\"url(#clip780)\" d=\"\n",
       "M0 1600 L2400 1600 L2400 0 L0 0  Z\n",
       "  \" fill=\"#ffffff\" fill-rule=\"evenodd\" fill-opacity=\"1\"/>\n",
       "<defs>\n",
       "  <clipPath id=\"clip781\">\n",
       "    <rect x=\"480\" y=\"0\" width=\"1681\" height=\"1600\"/>\n",
       "  </clipPath>\n",
       "</defs>\n",
       "<path clip-path=\"url(#clip780)\" d=\"\n",
       "M209.982 1423.18 L2352.76 1423.18 L2352.76 123.472 L209.982 123.472  Z\n",
       "  \" fill=\"#ffffff\" fill-rule=\"evenodd\" fill-opacity=\"1\"/>\n",
       "<defs>\n",
       "  <clipPath id=\"clip782\">\n",
       "    <rect x=\"209\" y=\"123\" width=\"2144\" height=\"1301\"/>\n",
       "  </clipPath>\n",
       "</defs>\n",
       "<polyline clip-path=\"url(#clip782)\" style=\"stroke:#000000; stroke-width:2; stroke-opacity:0.1; fill:none\" points=\"\n",
       "  471.91,1423.18 471.91,123.472 \n",
       "  \"/>\n",
       "<polyline clip-path=\"url(#clip782)\" style=\"stroke:#000000; stroke-width:2; stroke-opacity:0.1; fill:none\" points=\"\n",
       "  981.534,1423.18 981.534,123.472 \n",
       "  \"/>\n",
       "<polyline clip-path=\"url(#clip782)\" style=\"stroke:#000000; stroke-width:2; stroke-opacity:0.1; fill:none\" points=\"\n",
       "  1491.16,1423.18 1491.16,123.472 \n",
       "  \"/>\n",
       "<polyline clip-path=\"url(#clip782)\" style=\"stroke:#000000; stroke-width:2; stroke-opacity:0.1; fill:none\" points=\"\n",
       "  2000.78,1423.18 2000.78,123.472 \n",
       "  \"/>\n",
       "<polyline clip-path=\"url(#clip780)\" style=\"stroke:#000000; stroke-width:4; stroke-opacity:1; fill:none\" points=\"\n",
       "  209.982,1423.18 2352.76,1423.18 \n",
       "  \"/>\n",
       "<polyline clip-path=\"url(#clip780)\" style=\"stroke:#000000; stroke-width:4; stroke-opacity:1; fill:none\" points=\"\n",
       "  471.91,1423.18 471.91,1407.58 \n",
       "  \"/>\n",
       "<polyline clip-path=\"url(#clip780)\" style=\"stroke:#000000; stroke-width:4; stroke-opacity:1; fill:none\" points=\"\n",
       "  981.534,1423.18 981.534,1407.58 \n",
       "  \"/>\n",
       "<polyline clip-path=\"url(#clip780)\" style=\"stroke:#000000; stroke-width:4; stroke-opacity:1; fill:none\" points=\"\n",
       "  1491.16,1423.18 1491.16,1407.58 \n",
       "  \"/>\n",
       "<polyline clip-path=\"url(#clip780)\" style=\"stroke:#000000; stroke-width:4; stroke-opacity:1; fill:none\" points=\"\n",
       "  2000.78,1423.18 2000.78,1407.58 \n",
       "  \"/>\n",
       "<path clip-path=\"url(#clip780)\" d=\"M 0 0 M448.878 1479.92 L465.197 1479.92 L465.197 1483.85 L443.253 1483.85 L443.253 1479.92 Q445.915 1477.16 450.498 1472.53 Q455.105 1467.88 456.285 1466.54 Q458.531 1464.01 459.41 1462.28 Q460.313 1460.52 460.313 1458.83 Q460.313 1456.07 458.369 1454.34 Q456.447 1452.6 453.346 1452.6 Q451.146 1452.6 448.693 1453.37 Q446.262 1454.13 443.484 1455.68 L443.484 1450.96 Q446.309 1449.82 448.762 1449.25 Q451.216 1448.67 453.253 1448.67 Q458.623 1448.67 461.818 1451.35 Q465.012 1454.04 465.012 1458.53 Q465.012 1460.66 464.202 1462.58 Q463.415 1464.48 461.308 1467.07 Q460.73 1467.74 457.628 1470.96 Q454.526 1474.15 448.878 1479.92 Z\" fill=\"#000000\" fill-rule=\"evenodd\" fill-opacity=\"1\" /><path clip-path=\"url(#clip780)\" d=\"M 0 0 M470.267 1477.97 L475.151 1477.97 L475.151 1483.85 L470.267 1483.85 L470.267 1477.97 Z\" fill=\"#000000\" fill-rule=\"evenodd\" fill-opacity=\"1\" /><path clip-path=\"url(#clip780)\" d=\"M 0 0 M484.248 1479.92 L500.567 1479.92 L500.567 1483.85 L478.623 1483.85 L478.623 1479.92 Q481.285 1477.16 485.868 1472.53 Q490.475 1467.88 491.655 1466.54 Q493.901 1464.01 494.78 1462.28 Q495.683 1460.52 495.683 1458.83 Q495.683 1456.07 493.739 1454.34 Q491.818 1452.6 488.716 1452.6 Q486.517 1452.6 484.063 1453.37 Q481.632 1454.13 478.855 1455.68 L478.855 1450.96 Q481.679 1449.82 484.132 1449.25 Q486.586 1448.67 488.623 1448.67 Q493.993 1448.67 497.188 1451.35 Q500.382 1454.04 500.382 1458.53 Q500.382 1460.66 499.572 1462.58 Q498.785 1464.48 496.679 1467.07 Q496.1 1467.74 492.998 1470.96 Q489.896 1474.15 484.248 1479.92 Z\" fill=\"#000000\" fill-rule=\"evenodd\" fill-opacity=\"1\" /><path clip-path=\"url(#clip780)\" d=\"M 0 0 M957.46 1479.92 L973.78 1479.92 L973.78 1483.85 L951.836 1483.85 L951.836 1479.92 Q954.498 1477.16 959.081 1472.53 Q963.687 1467.88 964.868 1466.54 Q967.113 1464.01 967.993 1462.28 Q968.896 1460.52 968.896 1458.83 Q968.896 1456.07 966.951 1454.34 Q965.03 1452.6 961.928 1452.6 Q959.729 1452.6 957.275 1453.37 Q954.845 1454.13 952.067 1455.68 L952.067 1450.96 Q954.891 1449.82 957.345 1449.25 Q959.798 1448.67 961.835 1448.67 Q967.206 1448.67 970.4 1451.35 Q973.595 1454.04 973.595 1458.53 Q973.595 1460.66 972.784 1462.58 Q971.997 1464.48 969.891 1467.07 Q969.312 1467.74 966.21 1470.96 Q963.109 1474.15 957.46 1479.92 Z\" fill=\"#000000\" fill-rule=\"evenodd\" fill-opacity=\"1\" /><path clip-path=\"url(#clip780)\" d=\"M 0 0 M978.849 1477.97 L983.733 1477.97 L983.733 1483.85 L978.849 1483.85 L978.849 1477.97 Z\" fill=\"#000000\" fill-rule=\"evenodd\" fill-opacity=\"1\" /><path clip-path=\"url(#clip780)\" d=\"M 0 0 M1001.65 1453.37 L989.845 1471.81 L1001.65 1471.81 L1001.65 1453.37 M1000.42 1449.29 L1006.3 1449.29 L1006.3 1471.81 L1011.23 1471.81 L1011.23 1475.7 L1006.3 1475.7 L1006.3 1483.85 L1001.65 1483.85 L1001.65 1475.7 L986.048 1475.7 L986.048 1471.19 L1000.42 1449.29 Z\" fill=\"#000000\" fill-rule=\"evenodd\" fill-opacity=\"1\" /><path clip-path=\"url(#clip780)\" d=\"M 0 0 M1467.25 1479.92 L1483.57 1479.92 L1483.57 1483.85 L1461.62 1483.85 L1461.62 1479.92 Q1464.28 1477.16 1468.87 1472.53 Q1473.47 1467.88 1474.65 1466.54 Q1476.9 1464.01 1477.78 1462.28 Q1478.68 1460.52 1478.68 1458.83 Q1478.68 1456.07 1476.74 1454.34 Q1474.82 1452.6 1471.71 1452.6 Q1469.52 1452.6 1467.06 1453.37 Q1464.63 1454.13 1461.85 1455.68 L1461.85 1450.96 Q1464.68 1449.82 1467.13 1449.25 Q1469.58 1448.67 1471.62 1448.67 Q1476.99 1448.67 1480.19 1451.35 Q1483.38 1454.04 1483.38 1458.53 Q1483.38 1460.66 1482.57 1462.58 Q1481.78 1464.48 1479.68 1467.07 Q1479.1 1467.74 1476 1470.96 Q1472.89 1474.15 1467.25 1479.92 Z\" fill=\"#000000\" fill-rule=\"evenodd\" fill-opacity=\"1\" /><path clip-path=\"url(#clip780)\" d=\"M 0 0 M1488.64 1477.97 L1493.52 1477.97 L1493.52 1483.85 L1488.64 1483.85 L1488.64 1477.97 Z\" fill=\"#000000\" fill-rule=\"evenodd\" fill-opacity=\"1\" /><path clip-path=\"url(#clip780)\" d=\"M 0 0 M1509.17 1464.71 Q1506.02 1464.71 1504.17 1466.86 Q1502.34 1469.01 1502.34 1472.76 Q1502.34 1476.49 1504.17 1478.67 Q1506.02 1480.82 1509.17 1480.82 Q1512.32 1480.82 1514.14 1478.67 Q1516 1476.49 1516 1472.76 Q1516 1469.01 1514.14 1466.86 Q1512.32 1464.71 1509.17 1464.71 M1518.45 1450.06 L1518.45 1454.31 Q1516.69 1453.48 1514.89 1453.04 Q1513.1 1452.6 1511.34 1452.6 Q1506.71 1452.6 1504.26 1455.73 Q1501.83 1458.85 1501.48 1465.17 Q1502.85 1463.16 1504.91 1462.09 Q1506.97 1461 1509.45 1461 Q1514.65 1461 1517.66 1464.18 Q1520.7 1467.32 1520.7 1472.76 Q1520.7 1478.09 1517.55 1481.31 Q1514.4 1484.52 1509.17 1484.52 Q1503.17 1484.52 1500 1479.94 Q1496.83 1475.33 1496.83 1466.61 Q1496.83 1458.41 1500.72 1453.55 Q1504.61 1448.67 1511.16 1448.67 Q1512.92 1448.67 1514.7 1449.01 Q1516.51 1449.36 1518.45 1450.06 Z\" fill=\"#000000\" fill-rule=\"evenodd\" fill-opacity=\"1\" /><path clip-path=\"url(#clip780)\" d=\"M 0 0 M1977 1479.92 L1993.32 1479.92 L1993.32 1483.85 L1971.37 1483.85 L1971.37 1479.92 Q1974.04 1477.16 1978.62 1472.53 Q1983.23 1467.88 1984.41 1466.54 Q1986.65 1464.01 1987.53 1462.28 Q1988.43 1460.52 1988.43 1458.83 Q1988.43 1456.07 1986.49 1454.34 Q1984.57 1452.6 1981.47 1452.6 Q1979.27 1452.6 1976.81 1453.37 Q1974.38 1454.13 1971.6 1455.68 L1971.6 1450.96 Q1974.43 1449.82 1976.88 1449.25 Q1979.34 1448.67 1981.37 1448.67 Q1986.74 1448.67 1989.94 1451.35 Q1993.13 1454.04 1993.13 1458.53 Q1993.13 1460.66 1992.32 1462.58 Q1991.54 1464.48 1989.43 1467.07 Q1988.85 1467.74 1985.75 1470.96 Q1982.65 1474.15 1977 1479.92 Z\" fill=\"#000000\" fill-rule=\"evenodd\" fill-opacity=\"1\" /><path clip-path=\"url(#clip780)\" d=\"M 0 0 M1998.39 1477.97 L2003.27 1477.97 L2003.27 1483.85 L1998.39 1483.85 L1998.39 1477.97 Z\" fill=\"#000000\" fill-rule=\"evenodd\" fill-opacity=\"1\" /><path clip-path=\"url(#clip780)\" d=\"M 0 0 M2018.34 1467.44 Q2015.01 1467.44 2013.09 1469.22 Q2011.19 1471 2011.19 1474.13 Q2011.19 1477.25 2013.09 1479.04 Q2015.01 1480.82 2018.34 1480.82 Q2021.67 1480.82 2023.6 1479.04 Q2025.52 1477.23 2025.52 1474.13 Q2025.52 1471 2023.6 1469.22 Q2021.7 1467.44 2018.34 1467.44 M2013.66 1465.45 Q2010.66 1464.71 2008.97 1462.65 Q2007.3 1460.59 2007.3 1457.63 Q2007.3 1453.48 2010.24 1451.07 Q2013.2 1448.67 2018.34 1448.67 Q2023.5 1448.67 2026.44 1451.07 Q2029.38 1453.48 2029.38 1457.63 Q2029.38 1460.59 2027.69 1462.65 Q2026.03 1464.71 2023.04 1465.45 Q2026.42 1466.24 2028.29 1468.53 Q2030.19 1470.82 2030.19 1474.13 Q2030.19 1479.15 2027.11 1481.84 Q2024.06 1484.52 2018.34 1484.52 Q2012.62 1484.52 2009.54 1481.84 Q2006.49 1479.15 2006.49 1474.13 Q2006.49 1470.82 2008.39 1468.53 Q2010.29 1466.24 2013.66 1465.45 M2011.95 1458.06 Q2011.95 1460.75 2013.62 1462.25 Q2015.31 1463.76 2018.34 1463.76 Q2021.35 1463.76 2023.04 1462.25 Q2024.75 1460.75 2024.75 1458.06 Q2024.75 1455.38 2023.04 1453.88 Q2021.35 1452.37 2018.34 1452.37 Q2015.31 1452.37 2013.62 1453.88 Q2011.95 1455.38 2011.95 1458.06 Z\" fill=\"#000000\" fill-rule=\"evenodd\" fill-opacity=\"1\" /><path clip-path=\"url(#clip780)\" d=\"M 0 0 M1097.69 1506.52 L1103.54 1506.52 L1103.54 1556.04 L1097.69 1556.04 L1097.69 1506.52 Z\" fill=\"#000000\" fill-rule=\"evenodd\" fill-opacity=\"1\" /><path clip-path=\"url(#clip780)\" d=\"M 0 0 M1123.5 1524.5 Q1118.79 1524.5 1116.05 1528.19 Q1113.31 1531.85 1113.31 1538.25 Q1113.31 1544.65 1116.02 1548.34 Q1118.76 1552 1123.5 1552 Q1128.18 1552 1130.92 1548.31 Q1133.65 1544.62 1133.65 1538.25 Q1133.65 1531.92 1130.92 1528.23 Q1128.18 1524.5 1123.5 1524.5 M1123.5 1519.54 Q1131.14 1519.54 1135.5 1524.5 Q1139.86 1529.47 1139.86 1538.25 Q1139.86 1547 1135.5 1552 Q1131.14 1556.97 1123.5 1556.97 Q1115.83 1556.97 1111.47 1552 Q1107.14 1547 1107.14 1538.25 Q1107.14 1529.47 1111.47 1524.5 Q1115.83 1519.54 1123.5 1519.54 Z\" fill=\"#000000\" fill-rule=\"evenodd\" fill-opacity=\"1\" /><path clip-path=\"url(#clip780)\" d=\"M 0 0 M1169.46 1537.81 Q1169.46 1531.44 1166.82 1527.94 Q1164.21 1524.44 1159.47 1524.44 Q1154.76 1524.44 1152.11 1527.94 Q1149.5 1531.44 1149.5 1537.81 Q1149.5 1544.14 1152.11 1547.64 Q1154.76 1551.14 1159.47 1551.14 Q1164.21 1551.14 1166.82 1547.64 Q1169.46 1544.14 1169.46 1537.81 M1175.32 1551.62 Q1175.32 1560.72 1171.27 1565.15 Q1167.23 1569.6 1158.89 1569.6 Q1155.81 1569.6 1153.07 1569.13 Q1150.33 1568.68 1147.75 1567.72 L1147.75 1562.03 Q1150.33 1563.43 1152.85 1564.1 Q1155.36 1564.76 1157.97 1564.76 Q1163.73 1564.76 1166.6 1561.74 Q1169.46 1558.75 1169.46 1552.67 L1169.46 1549.77 Q1167.65 1552.92 1164.81 1554.48 Q1161.98 1556.04 1158.03 1556.04 Q1151.48 1556.04 1147.47 1551.05 Q1143.46 1546.05 1143.46 1537.81 Q1143.46 1529.53 1147.47 1524.53 Q1151.48 1519.54 1158.03 1519.54 Q1161.98 1519.54 1164.81 1521.1 Q1167.65 1522.66 1169.46 1525.81 L1169.46 1520.4 L1175.32 1520.4 L1175.32 1551.62 Z\" fill=\"#000000\" fill-rule=\"evenodd\" fill-opacity=\"1\" /><path clip-path=\"url(#clip780)\" d=\"M 0 0 M1195.53 1506.58 Q1191.26 1513.9 1189.19 1521.06 Q1187.12 1528.23 1187.12 1535.58 Q1187.12 1542.93 1189.19 1550.16 Q1191.29 1557.35 1195.53 1564.64 L1190.43 1564.64 Q1185.66 1557.16 1183.27 1549.93 Q1180.92 1542.71 1180.92 1535.58 Q1180.92 1528.48 1183.27 1521.29 Q1185.63 1514.09 1190.43 1506.58 L1195.53 1506.58 Z\" fill=\"#000000\" fill-rule=\"evenodd\" fill-opacity=\"1\" /><path clip-path=\"url(#clip780)\" d=\"M 0 0 M1231.3 1520.4 L1218.41 1537.74 L1231.97 1556.04 L1225.06 1556.04 L1214.69 1542.04 L1204.31 1556.04 L1197.41 1556.04 L1211.25 1537.39 L1198.58 1520.4 L1205.49 1520.4 L1214.94 1533.1 L1224.4 1520.4 L1231.3 1520.4 Z\" fill=\"#000000\" fill-rule=\"evenodd\" fill-opacity=\"1\" /><path clip-path=\"url(#clip780)\" d=\"M 0 0 M1265.2 1566.87 L1265.2 1571.42 L1231.33 1571.42 L1231.33 1566.87 L1265.2 1566.87 Z\" fill=\"#000000\" fill-rule=\"evenodd\" fill-opacity=\"1\" /><path clip-path=\"url(#clip780)\" d=\"M 0 0 M1298.52 1562.09 L1298.52 1566.67 L1296.55 1566.67 Q1288.63 1566.67 1285.92 1564.32 Q1283.25 1561.96 1283.25 1554.93 L1283.25 1547.32 Q1283.25 1542.52 1281.53 1540.67 Q1279.81 1538.82 1275.29 1538.82 L1273.35 1538.82 L1273.35 1534.27 L1275.29 1534.27 Q1279.84 1534.27 1281.53 1532.46 Q1283.25 1530.61 1283.25 1525.87 L1283.25 1518.23 Q1283.25 1511.2 1285.92 1508.87 Q1288.63 1506.52 1296.55 1506.52 L1298.52 1506.52 L1298.52 1511.07 L1296.36 1511.07 Q1291.87 1511.07 1290.5 1512.47 Q1289.14 1513.87 1289.14 1518.36 L1289.14 1526.25 Q1289.14 1531.25 1287.67 1533.51 Q1286.24 1535.77 1282.74 1536.56 Q1286.27 1537.42 1287.7 1539.68 Q1289.14 1541.94 1289.14 1546.91 L1289.14 1554.8 Q1289.14 1559.29 1290.5 1560.69 Q1291.87 1562.09 1296.36 1562.09 L1298.52 1562.09 Z\" fill=\"#000000\" fill-rule=\"evenodd\" fill-opacity=\"1\" /><path clip-path=\"url(#clip780)\" d=\"M 0 0 M1311.03 1550.63 L1333.47 1550.63 L1333.47 1556.04 L1303.3 1556.04 L1303.3 1550.63 Q1306.96 1546.85 1313.26 1540.48 Q1319.6 1534.08 1321.22 1532.24 Q1324.31 1528.77 1325.52 1526.38 Q1326.76 1523.96 1326.76 1521.64 Q1326.76 1517.85 1324.08 1515.46 Q1321.44 1513.08 1317.18 1513.08 Q1314.15 1513.08 1310.78 1514.13 Q1307.44 1515.18 1303.62 1517.31 L1303.62 1510.82 Q1307.5 1509.26 1310.87 1508.46 Q1314.25 1507.66 1317.05 1507.66 Q1324.43 1507.66 1328.83 1511.36 Q1333.22 1515.05 1333.22 1521.22 Q1333.22 1524.15 1332.1 1526.79 Q1331.02 1529.4 1328.13 1532.97 Q1327.33 1533.89 1323.06 1538.32 Q1318.8 1542.71 1311.03 1550.63 Z\" fill=\"#000000\" fill-rule=\"evenodd\" fill-opacity=\"1\" /><path clip-path=\"url(#clip780)\" d=\"M 0 0 M1360.27 1525.87 Q1359.29 1525.3 1358.11 1525.04 Q1356.96 1524.76 1355.56 1524.76 Q1350.6 1524.76 1347.92 1528 Q1345.28 1531.22 1345.28 1537.27 L1345.28 1556.04 L1339.39 1556.04 L1339.39 1520.4 L1345.28 1520.4 L1345.28 1525.93 Q1347.13 1522.69 1350.09 1521.13 Q1353.05 1519.54 1357.28 1519.54 Q1357.88 1519.54 1358.62 1519.63 Q1359.35 1519.7 1360.24 1519.85 L1360.27 1525.87 Z\" fill=\"#000000\" fill-rule=\"evenodd\" fill-opacity=\"1\" /><path clip-path=\"url(#clip780)\" d=\"M 0 0 M1359.29 1535.58 L1376.44 1535.58 L1376.44 1540.8 L1359.29 1540.8 L1359.29 1535.58 Z\" fill=\"#000000\" fill-rule=\"evenodd\" fill-opacity=\"1\" /><path clip-path=\"url(#clip780)\" d=\"M 0 0 M1384.53 1550.63 L1395.03 1550.63 L1395.03 1514.38 L1383.6 1516.67 L1383.6 1510.82 L1394.97 1508.52 L1401.39 1508.52 L1401.39 1550.63 L1411.9 1550.63 L1411.9 1556.04 L1384.53 1556.04 L1384.53 1550.63 Z\" fill=\"#000000\" fill-rule=\"evenodd\" fill-opacity=\"1\" /><path clip-path=\"url(#clip780)\" d=\"M 0 0 M1420.05 1562.09 L1422.27 1562.09 Q1426.73 1562.09 1428.07 1560.72 Q1429.44 1559.35 1429.44 1554.8 L1429.44 1546.91 Q1429.44 1541.94 1430.87 1539.68 Q1432.3 1537.42 1435.83 1536.56 Q1432.3 1535.77 1430.87 1533.51 Q1429.44 1531.25 1429.44 1526.25 L1429.44 1518.36 Q1429.44 1513.84 1428.07 1512.47 Q1426.73 1511.07 1422.27 1511.07 L1420.05 1511.07 L1420.05 1506.52 L1422.05 1506.52 Q1429.98 1506.52 1432.62 1508.87 Q1435.29 1511.2 1435.29 1518.23 L1435.29 1525.87 Q1435.29 1530.61 1437.01 1532.46 Q1438.73 1534.27 1443.25 1534.27 L1445.22 1534.27 L1445.22 1538.82 L1443.25 1538.82 Q1438.73 1538.82 1437.01 1540.67 Q1435.29 1542.52 1435.29 1547.32 L1435.29 1554.93 Q1435.29 1561.96 1432.62 1564.32 Q1429.98 1566.67 1422.05 1566.67 L1420.05 1566.67 L1420.05 1562.09 Z\" fill=\"#000000\" fill-rule=\"evenodd\" fill-opacity=\"1\" /><path clip-path=\"url(#clip780)\" d=\"M 0 0 M1450.44 1506.58 L1455.53 1506.58 Q1460.31 1514.09 1462.66 1521.29 Q1465.05 1528.48 1465.05 1535.58 Q1465.05 1542.71 1462.66 1549.93 Q1460.31 1557.16 1455.53 1564.64 L1450.44 1564.64 Q1454.68 1557.35 1456.74 1550.16 Q1458.84 1542.93 1458.84 1535.58 Q1458.84 1528.23 1456.74 1521.06 Q1454.68 1513.9 1450.44 1506.58 Z\" fill=\"#000000\" fill-rule=\"evenodd\" fill-opacity=\"1\" /><polyline clip-path=\"url(#clip782)\" style=\"stroke:#000000; stroke-width:2; stroke-opacity:0.1; fill:none\" points=\"\n",
       "  209.982,1357.49 2352.76,1357.49 \n",
       "  \"/>\n",
       "<polyline clip-path=\"url(#clip782)\" style=\"stroke:#000000; stroke-width:2; stroke-opacity:0.1; fill:none\" points=\"\n",
       "  209.982,1110.49 2352.76,1110.49 \n",
       "  \"/>\n",
       "<polyline clip-path=\"url(#clip782)\" style=\"stroke:#000000; stroke-width:2; stroke-opacity:0.1; fill:none\" points=\"\n",
       "  209.982,863.491 2352.76,863.491 \n",
       "  \"/>\n",
       "<polyline clip-path=\"url(#clip782)\" style=\"stroke:#000000; stroke-width:2; stroke-opacity:0.1; fill:none\" points=\"\n",
       "  209.982,616.492 2352.76,616.492 \n",
       "  \"/>\n",
       "<polyline clip-path=\"url(#clip782)\" style=\"stroke:#000000; stroke-width:2; stroke-opacity:0.1; fill:none\" points=\"\n",
       "  209.982,369.493 2352.76,369.493 \n",
       "  \"/>\n",
       "<polyline clip-path=\"url(#clip780)\" style=\"stroke:#000000; stroke-width:4; stroke-opacity:1; fill:none\" points=\"\n",
       "  209.982,1423.18 209.982,123.472 \n",
       "  \"/>\n",
       "<polyline clip-path=\"url(#clip780)\" style=\"stroke:#000000; stroke-width:4; stroke-opacity:1; fill:none\" points=\"\n",
       "  209.982,1357.49 235.695,1357.49 \n",
       "  \"/>\n",
       "<polyline clip-path=\"url(#clip780)\" style=\"stroke:#000000; stroke-width:4; stroke-opacity:1; fill:none\" points=\"\n",
       "  209.982,1110.49 235.695,1110.49 \n",
       "  \"/>\n",
       "<polyline clip-path=\"url(#clip780)\" style=\"stroke:#000000; stroke-width:4; stroke-opacity:1; fill:none\" points=\"\n",
       "  209.982,863.491 235.695,863.491 \n",
       "  \"/>\n",
       "<polyline clip-path=\"url(#clip780)\" style=\"stroke:#000000; stroke-width:4; stroke-opacity:1; fill:none\" points=\"\n",
       "  209.982,616.492 235.695,616.492 \n",
       "  \"/>\n",
       "<polyline clip-path=\"url(#clip780)\" style=\"stroke:#000000; stroke-width:4; stroke-opacity:1; fill:none\" points=\"\n",
       "  209.982,369.493 235.695,369.493 \n",
       "  \"/>\n",
       "<path clip-path=\"url(#clip780)\" d=\"M 0 0 M122.293 1370.83 L138.612 1370.83 L138.612 1374.77 L116.668 1374.77 L116.668 1370.83 Q119.33 1368.08 123.913 1363.45 Q128.519 1358.8 129.7 1357.45 Q131.945 1354.93 132.825 1353.19 Q133.728 1351.44 133.728 1349.75 Q133.728 1346.99 131.783 1345.25 Q129.862 1343.52 126.76 1343.52 Q124.561 1343.52 122.107 1344.28 Q119.677 1345.05 116.899 1346.6 L116.899 1341.88 Q119.723 1340.74 122.177 1340.16 Q124.63 1339.58 126.667 1339.58 Q132.038 1339.58 135.232 1342.27 Q138.427 1344.95 138.427 1349.44 Q138.427 1351.57 137.617 1353.5 Q136.829 1355.39 134.723 1357.99 Q134.144 1358.66 131.042 1361.87 Q127.941 1365.07 122.293 1370.83 Z\" fill=\"#000000\" fill-rule=\"evenodd\" fill-opacity=\"1\" /><path clip-path=\"url(#clip780)\" d=\"M 0 0 M143.681 1368.89 L148.566 1368.89 L148.566 1374.77 L143.681 1374.77 L143.681 1368.89 Z\" fill=\"#000000\" fill-rule=\"evenodd\" fill-opacity=\"1\" /><path clip-path=\"url(#clip780)\" d=\"M 0 0 M157.663 1370.83 L173.982 1370.83 L173.982 1374.77 L152.038 1374.77 L152.038 1370.83 Q154.7 1368.08 159.283 1363.45 Q163.89 1358.8 165.07 1357.45 Q167.315 1354.93 168.195 1353.19 Q169.098 1351.44 169.098 1349.75 Q169.098 1346.99 167.153 1345.25 Q165.232 1343.52 162.13 1343.52 Q159.931 1343.52 157.478 1344.28 Q155.047 1345.05 152.269 1346.6 L152.269 1341.88 Q155.093 1340.74 157.547 1340.16 Q160.001 1339.58 162.038 1339.58 Q167.408 1339.58 170.602 1342.27 Q173.797 1344.95 173.797 1349.44 Q173.797 1351.57 172.987 1353.5 Q172.2 1355.39 170.093 1357.99 Q169.514 1358.66 166.413 1361.87 Q163.311 1365.07 157.663 1370.83 Z\" fill=\"#000000\" fill-rule=\"evenodd\" fill-opacity=\"1\" /><path clip-path=\"url(#clip780)\" d=\"M 0 0 M120.209 1123.83 L136.529 1123.83 L136.529 1127.77 L114.584 1127.77 L114.584 1123.83 Q117.246 1121.08 121.83 1116.45 Q126.436 1111.8 127.617 1110.45 Q129.862 1107.93 130.742 1106.2 Q131.644 1104.44 131.644 1102.75 Q131.644 1099.99 129.7 1098.26 Q127.779 1096.52 124.677 1096.52 Q122.478 1096.52 120.024 1097.28 Q117.593 1098.05 114.816 1099.6 L114.816 1094.88 Q117.64 1093.74 120.093 1093.16 Q122.547 1092.58 124.584 1092.58 Q129.955 1092.58 133.149 1095.27 Q136.343 1097.95 136.343 1102.45 Q136.343 1104.58 135.533 1106.5 Q134.746 1108.39 132.64 1110.99 Q132.061 1111.66 128.959 1114.88 Q125.857 1118.07 120.209 1123.83 Z\" fill=\"#000000\" fill-rule=\"evenodd\" fill-opacity=\"1\" /><path clip-path=\"url(#clip780)\" d=\"M 0 0 M141.598 1121.89 L146.482 1121.89 L146.482 1127.77 L141.598 1127.77 L141.598 1121.89 Z\" fill=\"#000000\" fill-rule=\"evenodd\" fill-opacity=\"1\" /><path clip-path=\"url(#clip780)\" d=\"M 0 0 M164.399 1097.28 L152.593 1115.73 L164.399 1115.73 L164.399 1097.28 M163.172 1093.21 L169.052 1093.21 L169.052 1115.73 L173.982 1115.73 L173.982 1119.62 L169.052 1119.62 L169.052 1127.77 L164.399 1127.77 L164.399 1119.62 L148.797 1119.62 L148.797 1115.11 L163.172 1093.21 Z\" fill=\"#000000\" fill-rule=\"evenodd\" fill-opacity=\"1\" /><path clip-path=\"url(#clip780)\" d=\"M 0 0 M120.533 876.835 L136.853 876.835 L136.853 880.771 L114.908 880.771 L114.908 876.835 Q117.57 874.081 122.154 869.451 Q126.76 864.799 127.941 863.456 Q130.186 860.933 131.066 859.197 Q131.968 857.437 131.968 855.748 Q131.968 852.993 130.024 851.257 Q128.103 849.521 125.001 849.521 Q122.802 849.521 120.348 850.285 Q117.918 851.049 115.14 852.599 L115.14 847.877 Q117.964 846.743 120.418 846.164 Q122.871 845.586 124.908 845.586 Q130.279 845.586 133.473 848.271 Q136.667 850.956 136.667 855.447 Q136.667 857.576 135.857 859.498 Q135.07 861.396 132.964 863.988 Q132.385 864.66 129.283 867.877 Q126.181 871.072 120.533 876.835 Z\" fill=\"#000000\" fill-rule=\"evenodd\" fill-opacity=\"1\" /><path clip-path=\"url(#clip780)\" d=\"M 0 0 M141.922 874.891 L146.806 874.891 L146.806 880.771 L141.922 880.771 L141.922 874.891 Z\" fill=\"#000000\" fill-rule=\"evenodd\" fill-opacity=\"1\" /><path clip-path=\"url(#clip780)\" d=\"M 0 0 M162.454 861.627 Q159.306 861.627 157.454 863.78 Q155.626 865.933 155.626 869.683 Q155.626 873.41 157.454 875.585 Q159.306 877.738 162.454 877.738 Q165.602 877.738 167.431 875.585 Q169.283 873.41 169.283 869.683 Q169.283 865.933 167.431 863.78 Q165.602 861.627 162.454 861.627 M171.737 846.975 L171.737 851.234 Q169.977 850.4 168.172 849.961 Q166.39 849.521 164.63 849.521 Q160.001 849.521 157.547 852.646 Q155.116 855.771 154.769 862.09 Q156.135 860.076 158.195 859.012 Q160.255 857.924 162.732 857.924 Q167.94 857.924 170.95 861.095 Q173.982 864.243 173.982 869.683 Q173.982 875.007 170.834 878.224 Q167.686 881.442 162.454 881.442 Q156.459 881.442 153.288 876.859 Q150.116 872.252 150.116 863.525 Q150.116 855.331 154.005 850.47 Q157.894 845.586 164.445 845.586 Q166.204 845.586 167.987 845.933 Q169.792 846.28 171.737 846.975 Z\" fill=\"#000000\" fill-rule=\"evenodd\" fill-opacity=\"1\" /><path clip-path=\"url(#clip780)\" d=\"M 0 0 M120.788 629.837 L137.107 629.837 L137.107 633.772 L115.163 633.772 L115.163 629.837 Q117.825 627.082 122.408 622.452 Q127.015 617.8 128.195 616.457 Q130.441 613.934 131.32 612.198 Q132.223 610.439 132.223 608.749 Q132.223 605.994 130.279 604.258 Q128.357 602.522 125.255 602.522 Q123.056 602.522 120.603 603.286 Q118.172 604.05 115.394 605.601 L115.394 600.878 Q118.218 599.744 120.672 599.165 Q123.126 598.587 125.163 598.587 Q130.533 598.587 133.728 601.272 Q136.922 603.957 136.922 608.448 Q136.922 610.577 136.112 612.499 Q135.325 614.397 133.218 616.989 Q132.64 617.661 129.538 620.878 Q126.436 624.073 120.788 629.837 Z\" fill=\"#000000\" fill-rule=\"evenodd\" fill-opacity=\"1\" /><path clip-path=\"url(#clip780)\" d=\"M 0 0 M142.177 627.892 L147.061 627.892 L147.061 633.772 L142.177 633.772 L142.177 627.892 Z\" fill=\"#000000\" fill-rule=\"evenodd\" fill-opacity=\"1\" /><path clip-path=\"url(#clip780)\" d=\"M 0 0 M162.13 617.36 Q158.797 617.36 156.876 619.142 Q154.978 620.925 154.978 624.05 Q154.978 627.175 156.876 628.957 Q158.797 630.739 162.13 630.739 Q165.464 630.739 167.385 628.957 Q169.306 627.151 169.306 624.05 Q169.306 620.925 167.385 619.142 Q165.487 617.36 162.13 617.36 M157.454 615.369 Q154.445 614.628 152.755 612.568 Q151.089 610.508 151.089 607.545 Q151.089 603.402 154.028 600.994 Q156.991 598.587 162.13 598.587 Q167.292 598.587 170.232 600.994 Q173.172 603.402 173.172 607.545 Q173.172 610.508 171.482 612.568 Q169.815 614.628 166.829 615.369 Q170.209 616.156 172.084 618.448 Q173.982 620.739 173.982 624.05 Q173.982 629.073 170.903 631.758 Q167.848 634.443 162.13 634.443 Q156.413 634.443 153.334 631.758 Q150.278 629.073 150.278 624.05 Q150.278 620.739 152.177 618.448 Q154.075 616.156 157.454 615.369 M155.741 607.985 Q155.741 610.67 157.408 612.175 Q159.098 613.679 162.13 613.679 Q165.14 613.679 166.829 612.175 Q168.542 610.67 168.542 607.985 Q168.542 605.3 166.829 603.795 Q165.14 602.29 162.13 602.29 Q159.098 602.29 157.408 603.795 Q155.741 605.3 155.741 607.985 Z\" fill=\"#000000\" fill-rule=\"evenodd\" fill-opacity=\"1\" /><path clip-path=\"url(#clip780)\" d=\"M 0 0 M129.885 368.139 Q133.242 368.856 135.117 371.125 Q137.015 373.393 137.015 376.727 Q137.015 381.842 133.496 384.643 Q129.978 387.444 123.496 387.444 Q121.32 387.444 119.006 387.004 Q116.714 386.588 114.26 385.731 L114.26 381.217 Q116.205 382.352 118.519 382.93 Q120.834 383.509 123.357 383.509 Q127.755 383.509 130.047 381.773 Q132.362 380.037 132.362 376.727 Q132.362 373.671 130.209 371.958 Q128.08 370.222 124.26 370.222 L120.232 370.222 L120.232 366.38 L124.445 366.38 Q127.894 366.38 129.723 365.014 Q131.552 363.625 131.552 361.032 Q131.552 358.37 129.654 356.958 Q127.779 355.523 124.26 355.523 Q122.339 355.523 120.14 355.94 Q117.941 356.356 115.302 357.236 L115.302 353.069 Q117.964 352.329 120.279 351.958 Q122.617 351.588 124.677 351.588 Q130.001 351.588 133.103 354.018 Q136.204 356.426 136.204 360.546 Q136.204 363.417 134.561 365.407 Q132.917 367.375 129.885 368.139 Z\" fill=\"#000000\" fill-rule=\"evenodd\" fill-opacity=\"1\" /><path clip-path=\"url(#clip780)\" d=\"M 0 0 M142.084 380.893 L146.968 380.893 L146.968 386.773 L142.084 386.773 L142.084 380.893 Z\" fill=\"#000000\" fill-rule=\"evenodd\" fill-opacity=\"1\" /><path clip-path=\"url(#clip780)\" d=\"M 0 0 M162.038 355.292 Q158.427 355.292 156.598 358.856 Q154.792 362.398 154.792 369.528 Q154.792 376.634 156.598 380.199 Q158.427 383.741 162.038 383.741 Q165.672 383.741 167.477 380.199 Q169.306 376.634 169.306 369.528 Q169.306 362.398 167.477 358.856 Q165.672 355.292 162.038 355.292 M162.038 351.588 Q167.848 351.588 170.903 356.194 Q173.982 360.778 173.982 369.528 Q173.982 378.254 170.903 382.861 Q167.848 387.444 162.038 387.444 Q156.228 387.444 153.149 382.861 Q150.093 378.254 150.093 369.528 Q150.093 360.778 153.149 356.194 Q156.228 351.588 162.038 351.588 Z\" fill=\"#000000\" fill-rule=\"evenodd\" fill-opacity=\"1\" /><path clip-path=\"url(#clip780)\" d=\"M 0 0 M38.479 931.196 L38.479 925.339 L88.0042 925.339 L88.0042 931.196 L38.479 931.196 Z\" fill=\"#000000\" fill-rule=\"evenodd\" fill-opacity=\"1\" /><path clip-path=\"url(#clip780)\" d=\"M 0 0 M56.4621 905.383 Q56.4621 910.093 60.1542 912.83 Q63.8145 915.568 70.212 915.568 Q76.6095 915.568 80.3017 912.862 Q83.9619 910.125 83.9619 905.383 Q83.9619 900.704 80.2698 897.967 Q76.5777 895.229 70.212 895.229 Q63.8781 895.229 60.186 897.967 Q56.4621 900.704 56.4621 905.383 M51.4968 905.383 Q51.4968 897.744 56.4621 893.383 Q61.4273 889.023 70.212 889.023 Q78.9649 889.023 83.9619 893.383 Q88.9272 897.744 88.9272 905.383 Q88.9272 913.053 83.9619 917.414 Q78.9649 921.742 70.212 921.742 Q61.4273 921.742 56.4621 917.414 Q51.4968 913.053 51.4968 905.383 Z\" fill=\"#000000\" fill-rule=\"evenodd\" fill-opacity=\"1\" /><path clip-path=\"url(#clip780)\" d=\"M 0 0 M69.7664 859.422 Q63.4007 859.422 59.8996 862.064 Q56.3984 864.674 56.3984 869.416 Q56.3984 874.127 59.8996 876.769 Q63.4007 879.379 69.7664 879.379 Q76.1003 879.379 79.6014 876.769 Q83.1026 874.127 83.1026 869.416 Q83.1026 864.674 79.6014 862.064 Q76.1003 859.422 69.7664 859.422 M83.58 853.566 Q92.683 853.566 97.1071 857.608 Q101.563 861.65 101.563 869.989 Q101.563 873.077 101.086 875.814 Q100.64 878.551 99.6852 881.129 L93.9879 881.129 Q95.3884 878.551 96.0568 876.037 Q96.7252 873.522 96.7252 870.912 Q96.7252 865.151 93.7015 862.287 Q90.7096 859.422 84.6303 859.422 L81.7339 859.422 Q84.885 861.236 86.4446 864.069 Q88.0042 866.902 88.0042 870.849 Q88.0042 877.405 83.0071 881.416 Q78.01 885.426 69.7664 885.426 Q61.491 885.426 56.4939 881.416 Q51.4968 877.405 51.4968 870.849 Q51.4968 866.902 53.0564 864.069 Q54.616 861.236 57.7671 859.422 L52.3562 859.422 L52.3562 853.566 L83.58 853.566 Z\" fill=\"#000000\" fill-rule=\"evenodd\" fill-opacity=\"1\" /><path clip-path=\"url(#clip780)\" d=\"M 0 0 M38.5426 833.355 Q45.8632 837.62 53.0246 839.688 Q60.186 841.757 67.5384 841.757 Q74.8908 841.757 82.1159 839.688 Q89.3091 837.588 96.5979 833.355 L96.5979 838.447 Q89.1182 843.221 81.8931 845.609 Q74.668 847.964 67.5384 847.964 Q60.4406 847.964 53.2474 845.609 Q46.0542 843.253 38.5426 838.447 L38.5426 833.355 Z\" fill=\"#000000\" fill-rule=\"evenodd\" fill-opacity=\"1\" /><path clip-path=\"url(#clip780)\" d=\"M 0 0 M52.3562 797.579 L69.7028 810.47 L88.0042 796.911 L88.0042 803.818 L73.9996 814.194 L88.0042 824.57 L88.0042 831.477 L69.3526 817.631 L52.3562 830.299 L52.3562 823.392 L65.0558 813.939 L52.3562 804.486 L52.3562 797.579 Z\" fill=\"#000000\" fill-rule=\"evenodd\" fill-opacity=\"1\" /><path clip-path=\"url(#clip780)\" d=\"M 0 0 M98.8259 763.682 L103.377 763.682 L103.377 797.547 L98.8259 797.547 L98.8259 763.682 Z\" fill=\"#000000\" fill-rule=\"evenodd\" fill-opacity=\"1\" /><path clip-path=\"url(#clip780)\" d=\"M 0 0 M94.0516 730.357 L98.6349 730.357 L98.6349 732.331 Q98.6349 740.256 96.2796 742.962 Q93.9243 745.635 86.8902 745.635 L79.2831 745.635 Q74.477 745.635 72.631 747.354 Q70.7849 749.073 70.7849 753.592 L70.7849 755.534 L66.2334 755.534 L66.2334 753.592 Q66.2334 749.041 64.4192 747.354 Q62.5732 745.635 57.8307 745.635 L50.1919 745.635 Q43.1578 745.635 40.8343 742.962 Q38.479 740.256 38.479 732.331 L38.479 730.357 L43.0304 730.357 L43.0304 732.522 Q43.0304 737.01 44.4309 738.378 Q45.8314 739.747 50.3192 739.747 L58.2127 739.747 Q63.2097 739.747 65.4696 741.211 Q67.7294 742.643 68.5251 746.144 Q69.3845 742.611 71.6443 741.179 Q73.9041 739.747 78.8694 739.747 L86.7628 739.747 Q91.2507 739.747 92.6511 738.378 Q94.0516 737.01 94.0516 732.522 L94.0516 730.357 Z\" fill=\"#000000\" fill-rule=\"evenodd\" fill-opacity=\"1\" /><path clip-path=\"url(#clip780)\" d=\"M 0 0 M82.5933 717.849 L82.5933 695.41 L88.0042 695.41 L88.0042 725.583 L82.5933 725.583 Q78.8057 721.923 72.44 715.621 Q66.0425 709.287 64.1964 707.664 Q60.7271 704.576 58.34 703.367 Q55.921 702.126 53.5975 702.126 Q49.8099 702.126 47.4228 704.799 Q45.0356 707.441 45.0356 711.706 Q45.0356 714.73 46.086 718.103 Q47.1363 721.445 49.2688 725.265 L42.7758 725.265 Q41.2162 721.382 40.4205 718.008 Q39.6248 714.634 39.6248 711.833 Q39.6248 704.449 43.3169 700.057 Q47.009 695.664 53.1837 695.664 Q56.112 695.664 58.7537 696.778 Q61.3637 697.861 64.9285 700.757 Q65.8515 701.553 70.2757 705.818 Q74.668 710.083 82.5933 717.849 Z\" fill=\"#000000\" fill-rule=\"evenodd\" fill-opacity=\"1\" /><path clip-path=\"url(#clip780)\" d=\"M 0 0 M57.8307 668.61 Q57.2578 669.597 57.0032 670.774 Q56.7167 671.92 56.7167 673.321 Q56.7167 678.286 59.9632 680.96 Q63.1779 683.601 69.2253 683.601 L88.0042 683.601 L88.0042 689.49 L52.3562 689.49 L52.3562 683.601 L57.8944 683.601 Q54.6479 681.755 53.0883 678.795 Q51.4968 675.835 51.4968 671.602 Q51.4968 670.997 51.5923 670.265 Q51.656 669.533 51.8151 668.642 L57.8307 668.61 Z\" fill=\"#000000\" fill-rule=\"evenodd\" fill-opacity=\"1\" /><path clip-path=\"url(#clip780)\" d=\"M 0 0 M94.0516 660.462 L94.0516 658.234 Q94.0516 653.778 92.683 652.441 Q91.3143 651.073 86.7628 651.073 L78.8694 651.073 Q73.9041 651.073 71.6443 649.64 Q69.3845 648.208 68.5251 644.675 Q67.7294 648.208 65.4696 649.64 Q63.2097 651.073 58.2127 651.073 L50.3192 651.073 Q45.7995 651.073 44.4309 652.441 Q43.0304 653.778 43.0304 658.234 L43.0304 660.462 L38.479 660.462 L38.479 658.457 Q38.479 650.532 40.8343 647.89 Q43.1578 645.216 50.1919 645.216 L57.8307 645.216 Q62.5732 645.216 64.4192 643.497 Q66.2334 641.779 66.2334 637.259 L66.2334 635.286 L70.7849 635.286 L70.7849 637.259 Q70.7849 641.779 72.631 643.497 Q74.477 645.216 79.2831 645.216 L86.8902 645.216 Q93.9243 645.216 96.2796 647.89 Q98.6349 650.532 98.6349 658.457 L98.6349 660.462 L94.0516 660.462 Z\" fill=\"#000000\" fill-rule=\"evenodd\" fill-opacity=\"1\" /><path clip-path=\"url(#clip780)\" d=\"M 0 0 M38.5426 630.066 L38.5426 624.973 Q46.0542 620.199 53.2474 617.844 Q60.4406 615.456 67.5384 615.456 Q74.668 615.456 81.8931 617.844 Q89.1182 620.199 96.5979 624.973 L96.5979 630.066 Q89.3091 625.833 82.1159 623.764 Q74.8908 621.663 67.5384 621.663 Q60.186 621.663 53.0246 623.764 Q45.8632 625.833 38.5426 630.066 Z\" fill=\"#000000\" fill-rule=\"evenodd\" fill-opacity=\"1\" /><path clip-path=\"url(#clip780)\" d=\"M 0 0 M993.917 9.54393 L1001.37 9.54393 L1001.37 72.576 L993.917 72.576 L993.917 9.54393 Z\" fill=\"#000000\" fill-rule=\"evenodd\" fill-opacity=\"1\" /><path clip-path=\"url(#clip780)\" d=\"M 0 0 M1026.77 32.4315 Q1020.77 32.4315 1017.29 37.1306 Q1013.81 41.7891 1013.81 49.9314 Q1013.81 58.0738 1017.25 62.7728 Q1020.73 67.4314 1026.77 67.4314 Q1032.72 67.4314 1036.21 62.7323 Q1039.69 58.0333 1039.69 49.9314 Q1039.69 41.8701 1036.21 37.1711 Q1032.72 32.4315 1026.77 32.4315 M1026.77 26.1121 Q1036.49 26.1121 1042.04 32.4315 Q1047.59 38.7509 1047.59 49.9314 Q1047.59 61.0714 1042.04 67.4314 Q1036.49 73.7508 1026.77 73.7508 Q1017.01 73.7508 1011.46 67.4314 Q1005.95 61.0714 1005.95 49.9314 Q1005.95 38.7509 1011.46 32.4315 Q1017.01 26.1121 1026.77 26.1121 Z\" fill=\"#000000\" fill-rule=\"evenodd\" fill-opacity=\"1\" /><path clip-path=\"url(#clip780)\" d=\"M 0 0 M1085.26 49.3643 Q1085.26 41.2625 1081.9 36.8065 Q1078.58 32.3505 1072.54 32.3505 Q1066.55 32.3505 1063.19 36.8065 Q1059.87 41.2625 1059.87 49.3643 Q1059.87 57.4256 1063.19 61.8816 Q1066.55 66.3376 1072.54 66.3376 Q1078.58 66.3376 1081.9 61.8816 Q1085.26 57.4256 1085.26 49.3643 M1092.72 66.9452 Q1092.72 78.5308 1087.57 84.1616 Q1082.43 89.8329 1071.82 89.8329 Q1067.89 89.8329 1064.4 89.2252 Q1060.92 88.6581 1057.64 87.4428 L1057.64 80.1917 Q1060.92 81.9741 1064.12 82.8248 Q1067.32 83.6755 1070.64 83.6755 Q1077.97 83.6755 1081.62 79.8271 Q1085.26 76.0193 1085.26 68.282 L1085.26 64.5957 Q1082.96 68.6061 1079.35 70.5911 Q1075.75 72.576 1070.72 72.576 Q1062.38 72.576 1057.27 66.2161 Q1052.17 59.8562 1052.17 49.3643 Q1052.17 38.832 1057.27 32.472 Q1062.38 26.1121 1070.72 26.1121 Q1075.75 26.1121 1079.35 28.0971 Q1082.96 30.082 1085.26 34.0924 L1085.26 27.2059 L1092.72 27.2059 L1092.72 66.9452 Z\" fill=\"#000000\" fill-rule=\"evenodd\" fill-opacity=\"1\" /><path clip-path=\"url(#clip780)\" d=\"M 0 0 M1159.56 28.9478 L1159.56 35.9153 Q1156.4 34.1734 1153.2 33.3227 Q1150.04 32.4315 1146.8 32.4315 Q1139.55 32.4315 1135.54 37.0496 Q1131.53 41.6271 1131.53 49.9314 Q1131.53 58.2358 1135.54 62.8538 Q1139.55 67.4314 1146.8 67.4314 Q1150.04 67.4314 1153.2 66.5807 Q1156.4 65.6895 1159.56 63.9476 L1159.56 70.8341 Q1156.44 72.2924 1153.08 73.0216 Q1149.76 73.7508 1145.99 73.7508 Q1135.74 73.7508 1129.7 67.3098 Q1123.67 60.8689 1123.67 49.9314 Q1123.67 38.832 1129.74 32.472 Q1135.86 26.1121 1146.47 26.1121 Q1149.92 26.1121 1153.2 26.8413 Q1156.48 27.5299 1159.56 28.9478 Z\" fill=\"#000000\" fill-rule=\"evenodd\" fill-opacity=\"1\" /><path clip-path=\"url(#clip780)\" d=\"M 0 0 M1206.18 48.0275 L1206.18 51.6733 L1171.91 51.6733 Q1172.4 59.3701 1176.53 63.421 Q1180.7 67.4314 1188.12 67.4314 Q1192.41 67.4314 1196.42 66.3781 Q1200.47 65.3249 1204.44 63.2184 L1204.44 70.267 Q1200.43 71.9684 1196.22 72.8596 Q1192.01 73.7508 1187.67 73.7508 Q1176.82 73.7508 1170.46 67.4314 Q1164.14 61.1119 1164.14 50.3365 Q1164.14 39.1965 1170.13 32.6746 Q1176.17 26.1121 1186.38 26.1121 Q1195.53 26.1121 1200.84 32.0264 Q1206.18 37.9003 1206.18 48.0275 M1198.73 45.84 Q1198.65 39.7232 1195.29 36.0774 Q1191.97 32.4315 1186.46 32.4315 Q1180.22 32.4315 1176.45 35.9558 Q1172.72 39.4801 1172.16 45.8805 L1198.73 45.84 Z\" fill=\"#000000\" fill-rule=\"evenodd\" fill-opacity=\"1\" /><path clip-path=\"url(#clip780)\" d=\"M 0 0 M1251.72 45.1919 L1251.72 72.576 L1244.26 72.576 L1244.26 45.4349 Q1244.26 38.994 1241.75 35.7938 Q1239.24 32.5936 1234.22 32.5936 Q1228.18 32.5936 1224.7 36.4419 Q1221.21 40.2903 1221.21 46.9338 L1221.21 72.576 L1213.72 72.576 L1213.72 27.2059 L1221.21 27.2059 L1221.21 34.2544 Q1223.89 30.163 1227.49 28.1376 Q1231.14 26.1121 1235.88 26.1121 Q1243.7 26.1121 1247.71 30.9732 Q1251.72 35.7938 1251.72 45.1919 Z\" fill=\"#000000\" fill-rule=\"evenodd\" fill-opacity=\"1\" /><path clip-path=\"url(#clip780)\" d=\"M 0 0 M1266.91 14.324 L1266.91 27.2059 L1282.26 27.2059 L1282.26 32.9987 L1266.91 32.9987 L1266.91 57.6282 Q1266.91 63.1779 1268.41 64.7578 Q1269.95 66.3376 1274.6 66.3376 L1282.26 66.3376 L1282.26 72.576 L1274.6 72.576 Q1265.98 72.576 1262.69 69.3758 Q1259.41 66.1351 1259.41 57.6282 L1259.41 32.9987 L1253.94 32.9987 L1253.94 27.2059 L1259.41 27.2059 L1259.41 14.324 L1266.91 14.324 Z\" fill=\"#000000\" fill-rule=\"evenodd\" fill-opacity=\"1\" /><path clip-path=\"url(#clip780)\" d=\"M 0 0 M1316.37 34.1734 Q1315.11 33.4443 1313.61 33.1202 Q1312.16 32.7556 1310.37 32.7556 Q1304.05 32.7556 1300.65 36.8875 Q1297.29 40.9789 1297.29 48.6757 L1297.29 72.576 L1289.79 72.576 L1289.79 27.2059 L1297.29 27.2059 L1297.29 34.2544 Q1299.64 30.1225 1303.41 28.1376 Q1307.17 26.1121 1312.56 26.1121 Q1313.33 26.1121 1314.26 26.2337 Q1315.19 26.3147 1316.33 26.5172 L1316.37 34.1734 Z\" fill=\"#000000\" fill-rule=\"evenodd\" fill-opacity=\"1\" /><path clip-path=\"url(#clip780)\" d=\"M 0 0 M1344.81 49.7694 Q1335.77 49.7694 1332.29 51.8354 Q1328.81 53.9013 1328.81 58.8839 Q1328.81 62.8538 1331.4 65.2034 Q1334.03 67.5124 1338.53 67.5124 Q1344.73 67.5124 1348.45 63.1374 Q1352.22 58.7219 1352.22 51.4303 L1352.22 49.7694 L1344.81 49.7694 M1359.67 46.6907 L1359.67 72.576 L1352.22 72.576 L1352.22 65.6895 Q1349.67 69.8214 1345.86 71.8063 Q1342.05 73.7508 1336.54 73.7508 Q1329.57 73.7508 1325.44 69.8619 Q1321.35 65.9325 1321.35 59.3701 Q1321.35 51.7138 1326.46 47.825 Q1331.6 43.9361 1341.77 43.9361 L1352.22 43.9361 L1352.22 43.2069 Q1352.22 38.0623 1348.82 35.2672 Q1345.45 32.4315 1339.34 32.4315 Q1335.45 32.4315 1331.76 33.3632 Q1328.08 34.295 1324.67 36.1584 L1324.67 29.2718 Q1328.76 27.692 1332.61 26.9223 Q1336.46 26.1121 1340.11 26.1121 Q1349.95 26.1121 1354.81 31.2163 Q1359.67 36.3204 1359.67 46.6907 Z\" fill=\"#000000\" fill-rule=\"evenodd\" fill-opacity=\"1\" /><path clip-path=\"url(#clip780)\" d=\"M 0 0 M1367.49 9.54393 L1374.94 9.54393 L1374.94 72.576 L1367.49 72.576 L1367.49 9.54393 Z\" fill=\"#000000\" fill-rule=\"evenodd\" fill-opacity=\"1\" /><path clip-path=\"url(#clip780)\" d=\"M 0 0 M1416.35 65.7705 L1416.35 89.8329 L1408.85 89.8329 L1408.85 27.2059 L1416.35 27.2059 L1416.35 34.0924 Q1418.69 30.0415 1422.26 28.0971 Q1425.86 26.1121 1430.85 26.1121 Q1439.11 26.1121 1444.26 32.6746 Q1449.44 39.2371 1449.44 49.9314 Q1449.44 60.6258 1444.26 67.1883 Q1439.11 73.7508 1430.85 73.7508 Q1425.86 73.7508 1422.26 71.8063 Q1418.69 69.8214 1416.35 65.7705 M1441.7 49.9314 Q1441.7 41.7081 1438.3 37.0496 Q1434.94 32.3505 1429.02 32.3505 Q1423.11 32.3505 1419.71 37.0496 Q1416.35 41.7081 1416.35 49.9314 Q1416.35 58.1548 1419.71 62.8538 Q1423.11 67.5124 1429.02 67.5124 Q1434.94 67.5124 1438.3 62.8538 Q1441.7 58.1548 1441.7 49.9314 Z\" fill=\"#000000\" fill-rule=\"evenodd\" fill-opacity=\"1\" /><path clip-path=\"url(#clip780)\" d=\"M 0 0 M1477.88 49.7694 Q1468.84 49.7694 1465.36 51.8354 Q1461.88 53.9013 1461.88 58.8839 Q1461.88 62.8538 1464.47 65.2034 Q1467.1 67.5124 1471.6 67.5124 Q1477.8 67.5124 1481.52 63.1374 Q1485.29 58.7219 1485.29 51.4303 L1485.29 49.7694 L1477.88 49.7694 M1492.75 46.6907 L1492.75 72.576 L1485.29 72.576 L1485.29 65.6895 Q1482.74 69.8214 1478.93 71.8063 Q1475.12 73.7508 1469.61 73.7508 Q1462.65 73.7508 1458.52 69.8619 Q1454.42 65.9325 1454.42 59.3701 Q1454.42 51.7138 1459.53 47.825 Q1464.67 43.9361 1474.84 43.9361 L1485.29 43.9361 L1485.29 43.2069 Q1485.29 38.0623 1481.89 35.2672 Q1478.53 32.4315 1472.41 32.4315 Q1468.52 32.4315 1464.83 33.3632 Q1461.15 34.295 1457.75 36.1584 L1457.75 29.2718 Q1461.84 27.692 1465.69 26.9223 Q1469.53 26.1121 1473.18 26.1121 Q1483.02 26.1121 1487.88 31.2163 Q1492.75 36.3204 1492.75 46.6907 Z\" fill=\"#000000\" fill-rule=\"evenodd\" fill-opacity=\"1\" /><path clip-path=\"url(#clip780)\" d=\"M 0 0 M1507.94 14.324 L1507.94 27.2059 L1523.29 27.2059 L1523.29 32.9987 L1507.94 32.9987 L1507.94 57.6282 Q1507.94 63.1779 1509.43 64.7578 Q1510.97 66.3376 1515.63 66.3376 L1523.29 66.3376 L1523.29 72.576 L1515.63 72.576 Q1507 72.576 1503.72 69.3758 Q1500.44 66.1351 1500.44 57.6282 L1500.44 32.9987 L1494.97 32.9987 L1494.97 27.2059 L1500.44 27.2059 L1500.44 14.324 L1507.94 14.324 Z\" fill=\"#000000\" fill-rule=\"evenodd\" fill-opacity=\"1\" /><path clip-path=\"url(#clip780)\" d=\"M 0 0 M1568.82 45.1919 L1568.82 72.576 L1561.37 72.576 L1561.37 45.4349 Q1561.37 38.994 1558.86 35.7938 Q1556.34 32.5936 1551.32 32.5936 Q1545.29 32.5936 1541.8 36.4419 Q1538.32 40.2903 1538.32 46.9338 L1538.32 72.576 L1530.82 72.576 L1530.82 9.54393 L1538.32 9.54393 L1538.32 34.2544 Q1540.99 30.163 1544.6 28.1376 Q1548.24 26.1121 1552.98 26.1121 Q1560.8 26.1121 1564.81 30.9732 Q1568.82 35.7938 1568.82 45.1919 Z\" fill=\"#000000\" fill-rule=\"evenodd\" fill-opacity=\"1\" /><circle clip-path=\"url(#clip782)\" cx=\"2290.65\" cy=\"160.256\" r=\"18\" fill=\"#0000ff\" fill-rule=\"evenodd\" fill-opacity=\"1\" stroke=\"#000000\" stroke-opacity=\"1\" stroke-width=\"3.2\"/>\n",
       "<circle clip-path=\"url(#clip782)\" cx=\"2290.65\" cy=\"160.986\" r=\"18\" fill=\"#0000ff\" fill-rule=\"evenodd\" fill-opacity=\"1\" stroke=\"#000000\" stroke-opacity=\"1\" stroke-width=\"3.2\"/>\n",
       "<circle clip-path=\"url(#clip782)\" cx=\"2290.65\" cy=\"162.294\" r=\"18\" fill=\"#0000ff\" fill-rule=\"evenodd\" fill-opacity=\"1\" stroke=\"#000000\" stroke-opacity=\"1\" stroke-width=\"3.2\"/>\n",
       "<circle clip-path=\"url(#clip782)\" cx=\"2290.66\" cy=\"164.871\" r=\"18\" fill=\"#0000ff\" fill-rule=\"evenodd\" fill-opacity=\"1\" stroke=\"#000000\" stroke-opacity=\"1\" stroke-width=\"3.2\"/>\n",
       "<circle clip-path=\"url(#clip782)\" cx=\"2290.66\" cy=\"170.972\" r=\"18\" fill=\"#0000ff\" fill-rule=\"evenodd\" fill-opacity=\"1\" stroke=\"#000000\" stroke-opacity=\"1\" stroke-width=\"3.2\"/>\n",
       "<circle clip-path=\"url(#clip782)\" cx=\"2290.69\" cy=\"189.944\" r=\"18\" fill=\"#0000ff\" fill-rule=\"evenodd\" fill-opacity=\"1\" stroke=\"#000000\" stroke-opacity=\"1\" stroke-width=\"3.2\"/>\n",
       "<circle clip-path=\"url(#clip782)\" cx=\"2290.78\" cy=\"234.512\" r=\"18\" fill=\"#0000ff\" fill-rule=\"evenodd\" fill-opacity=\"1\" stroke=\"#000000\" stroke-opacity=\"1\" stroke-width=\"3.2\"/>\n",
       "<circle clip-path=\"url(#clip782)\" cx=\"2290.92\" cy=\"290.048\" r=\"18\" fill=\"#0000ff\" fill-rule=\"evenodd\" fill-opacity=\"1\" stroke=\"#000000\" stroke-opacity=\"1\" stroke-width=\"3.2\"/>\n",
       "<circle clip-path=\"url(#clip782)\" cx=\"2291.13\" cy=\"347.748\" r=\"18\" fill=\"#0000ff\" fill-rule=\"evenodd\" fill-opacity=\"1\" stroke=\"#000000\" stroke-opacity=\"1\" stroke-width=\"3.2\"/>\n",
       "<circle clip-path=\"url(#clip782)\" cx=\"2291.42\" cy=\"405.814\" r=\"18\" fill=\"#0000ff\" fill-rule=\"evenodd\" fill-opacity=\"1\" stroke=\"#000000\" stroke-opacity=\"1\" stroke-width=\"3.2\"/>\n",
       "<circle clip-path=\"url(#clip782)\" cx=\"2291.78\" cy=\"463.389\" r=\"18\" fill=\"#0000ff\" fill-rule=\"evenodd\" fill-opacity=\"1\" stroke=\"#000000\" stroke-opacity=\"1\" stroke-width=\"3.2\"/>\n",
       "<circle clip-path=\"url(#clip782)\" cx=\"2292.11\" cy=\"519.468\" r=\"18\" fill=\"#0000ff\" fill-rule=\"evenodd\" fill-opacity=\"1\" stroke=\"#000000\" stroke-opacity=\"1\" stroke-width=\"3.2\"/>\n",
       "<circle clip-path=\"url(#clip782)\" cx=\"2292.07\" cy=\"572.625\" r=\"18\" fill=\"#0000ff\" fill-rule=\"evenodd\" fill-opacity=\"1\" stroke=\"#000000\" stroke-opacity=\"1\" stroke-width=\"3.2\"/>\n",
       "<circle clip-path=\"url(#clip782)\" cx=\"2290.32\" cy=\"620.712\" r=\"18\" fill=\"#0000ff\" fill-rule=\"evenodd\" fill-opacity=\"1\" stroke=\"#000000\" stroke-opacity=\"1\" stroke-width=\"3.2\"/>\n",
       "<circle clip-path=\"url(#clip782)\" cx=\"2280.43\" cy=\"660.8\" r=\"18\" fill=\"#0000ff\" fill-rule=\"evenodd\" fill-opacity=\"1\" stroke=\"#000000\" stroke-opacity=\"1\" stroke-width=\"3.2\"/>\n",
       "<circle clip-path=\"url(#clip782)\" cx=\"2235.48\" cy=\"692.262\" r=\"18\" fill=\"#0000ff\" fill-rule=\"evenodd\" fill-opacity=\"1\" stroke=\"#000000\" stroke-opacity=\"1\" stroke-width=\"3.2\"/>\n",
       "<circle clip-path=\"url(#clip782)\" cx=\"2137.73\" cy=\"719.009\" r=\"18\" fill=\"#0000ff\" fill-rule=\"evenodd\" fill-opacity=\"1\" stroke=\"#000000\" stroke-opacity=\"1\" stroke-width=\"3.2\"/>\n",
       "<circle clip-path=\"url(#clip782)\" cx=\"2015.2\" cy=\"739.41\" r=\"18\" fill=\"#0000ff\" fill-rule=\"evenodd\" fill-opacity=\"1\" stroke=\"#000000\" stroke-opacity=\"1\" stroke-width=\"3.2\"/>\n",
       "<circle clip-path=\"url(#clip782)\" cx=\"1886.3\" cy=\"753.297\" r=\"18\" fill=\"#0000ff\" fill-rule=\"evenodd\" fill-opacity=\"1\" stroke=\"#000000\" stroke-opacity=\"1\" stroke-width=\"3.2\"/>\n",
       "<circle clip-path=\"url(#clip782)\" cx=\"1757.95\" cy=\"762.248\" r=\"18\" fill=\"#0000ff\" fill-rule=\"evenodd\" fill-opacity=\"1\" stroke=\"#000000\" stroke-opacity=\"1\" stroke-width=\"3.2\"/>\n",
       "<circle clip-path=\"url(#clip782)\" cx=\"1633.07\" cy=\"767.84\" r=\"18\" fill=\"#0000ff\" fill-rule=\"evenodd\" fill-opacity=\"1\" stroke=\"#000000\" stroke-opacity=\"1\" stroke-width=\"3.2\"/>\n",
       "<circle clip-path=\"url(#clip782)\" cx=\"1513.96\" cy=\"771.252\" r=\"18\" fill=\"#0000ff\" fill-rule=\"evenodd\" fill-opacity=\"1\" stroke=\"#000000\" stroke-opacity=\"1\" stroke-width=\"3.2\"/>\n",
       "<circle clip-path=\"url(#clip782)\" cx=\"1404.44\" cy=\"773.362\" r=\"18\" fill=\"#0000ff\" fill-rule=\"evenodd\" fill-opacity=\"1\" stroke=\"#000000\" stroke-opacity=\"1\" stroke-width=\"3.2\"/>\n",
       "<circle clip-path=\"url(#clip782)\" cx=\"1312.6\" cy=\"775.08\" r=\"18\" fill=\"#0000ff\" fill-rule=\"evenodd\" fill-opacity=\"1\" stroke=\"#000000\" stroke-opacity=\"1\" stroke-width=\"3.2\"/>\n",
       "<circle clip-path=\"url(#clip782)\" cx=\"1255.84\" cy=\"779.077\" r=\"18\" fill=\"#0000ff\" fill-rule=\"evenodd\" fill-opacity=\"1\" stroke=\"#000000\" stroke-opacity=\"1\" stroke-width=\"3.2\"/>\n",
       "<circle clip-path=\"url(#clip782)\" cx=\"1222.27\" cy=\"795.651\" r=\"18\" fill=\"#0000ff\" fill-rule=\"evenodd\" fill-opacity=\"1\" stroke=\"#000000\" stroke-opacity=\"1\" stroke-width=\"3.2\"/>\n",
       "<circle clip-path=\"url(#clip782)\" cx=\"1175.12\" cy=\"839.028\" r=\"18\" fill=\"#0000ff\" fill-rule=\"evenodd\" fill-opacity=\"1\" stroke=\"#000000\" stroke-opacity=\"1\" stroke-width=\"3.2\"/>\n",
       "<circle clip-path=\"url(#clip782)\" cx=\"1128.09\" cy=\"900.657\" r=\"18\" fill=\"#0000ff\" fill-rule=\"evenodd\" fill-opacity=\"1\" stroke=\"#000000\" stroke-opacity=\"1\" stroke-width=\"3.2\"/>\n",
       "<circle clip-path=\"url(#clip782)\" cx=\"1092.56\" cy=\"967.096\" r=\"18\" fill=\"#0000ff\" fill-rule=\"evenodd\" fill-opacity=\"1\" stroke=\"#000000\" stroke-opacity=\"1\" stroke-width=\"3.2\"/>\n",
       "<circle clip-path=\"url(#clip782)\" cx=\"1067.51\" cy=\"1032.71\" r=\"18\" fill=\"#0000ff\" fill-rule=\"evenodd\" fill-opacity=\"1\" stroke=\"#000000\" stroke-opacity=\"1\" stroke-width=\"3.2\"/>\n",
       "<circle clip-path=\"url(#clip782)\" cx=\"1050.63\" cy=\"1095.36\" r=\"18\" fill=\"#0000ff\" fill-rule=\"evenodd\" fill-opacity=\"1\" stroke=\"#000000\" stroke-opacity=\"1\" stroke-width=\"3.2\"/>\n",
       "<circle clip-path=\"url(#clip782)\" cx=\"1039.55\" cy=\"1154.1\" r=\"18\" fill=\"#0000ff\" fill-rule=\"evenodd\" fill-opacity=\"1\" stroke=\"#000000\" stroke-opacity=\"1\" stroke-width=\"3.2\"/>\n",
       "<circle clip-path=\"url(#clip782)\" cx=\"1031.84\" cy=\"1207.63\" r=\"18\" fill=\"#0000ff\" fill-rule=\"evenodd\" fill-opacity=\"1\" stroke=\"#000000\" stroke-opacity=\"1\" stroke-width=\"3.2\"/>\n",
       "<circle clip-path=\"url(#clip782)\" cx=\"1023.35\" cy=\"1253.49\" r=\"18\" fill=\"#0000ff\" fill-rule=\"evenodd\" fill-opacity=\"1\" stroke=\"#000000\" stroke-opacity=\"1\" stroke-width=\"3.2\"/>\n",
       "<circle clip-path=\"url(#clip782)\" cx=\"997.913\" cy=\"1288.75\" r=\"18\" fill=\"#0000ff\" fill-rule=\"evenodd\" fill-opacity=\"1\" stroke=\"#000000\" stroke-opacity=\"1\" stroke-width=\"3.2\"/>\n",
       "<circle clip-path=\"url(#clip782)\" cx=\"923.046\" cy=\"1317.6\" r=\"18\" fill=\"#0000ff\" fill-rule=\"evenodd\" fill-opacity=\"1\" stroke=\"#000000\" stroke-opacity=\"1\" stroke-width=\"3.2\"/>\n",
       "<circle clip-path=\"url(#clip782)\" cx=\"806.345\" cy=\"1342.43\" r=\"18\" fill=\"#0000ff\" fill-rule=\"evenodd\" fill-opacity=\"1\" stroke=\"#000000\" stroke-opacity=\"1\" stroke-width=\"3.2\"/>\n",
       "<circle clip-path=\"url(#clip782)\" cx=\"673.699\" cy=\"1360.76\" r=\"18\" fill=\"#0000ff\" fill-rule=\"evenodd\" fill-opacity=\"1\" stroke=\"#000000\" stroke-opacity=\"1\" stroke-width=\"3.2\"/>\n",
       "<circle clip-path=\"url(#clip782)\" cx=\"537.72\" cy=\"1373.18\" r=\"18\" fill=\"#0000ff\" fill-rule=\"evenodd\" fill-opacity=\"1\" stroke=\"#000000\" stroke-opacity=\"1\" stroke-width=\"3.2\"/>\n",
       "<circle clip-path=\"url(#clip782)\" cx=\"403.087\" cy=\"1381.25\" r=\"18\" fill=\"#0000ff\" fill-rule=\"evenodd\" fill-opacity=\"1\" stroke=\"#000000\" stroke-opacity=\"1\" stroke-width=\"3.2\"/>\n",
       "<circle clip-path=\"url(#clip782)\" cx=\"270.627\" cy=\"1386.4\" r=\"18\" fill=\"#0000ff\" fill-rule=\"evenodd\" fill-opacity=\"1\" stroke=\"#000000\" stroke-opacity=\"1\" stroke-width=\"3.2\"/>\n",
       "</svg>\n"
      ]
     },
     "execution_count": 15,
     "metadata": {},
     "output_type": "execute_result"
    }
   ],
   "source": [
    "Time = [t_puiseux^lam for lam = [0.05*k for k= -40:0]]\n",
    "\n",
    "central_path(Time, big(10^-40), 0.05, 10^-7, 10^-1, 10^10, 10^-7)  # Time, t1, alpha, lam, lam2, u_bound, eps"
   ]
  },
  {
   "cell_type": "markdown",
   "metadata": {},
   "source": [
    "We observe that the shape of the tropical central path is the same as for the classical log barrier-function. "
   ]
  },
  {
   "cell_type": "code",
   "execution_count": null,
   "metadata": {},
   "outputs": [],
   "source": []
  }
 ],
 "metadata": {
  "kernelspec": {
   "display_name": "Julia 1.5.1",
   "language": "julia",
   "name": "julia-1.5"
  },
  "language_info": {
   "file_extension": ".jl",
   "mimetype": "application/julia",
   "name": "julia",
   "version": "1.5.1"
  }
 },
 "nbformat": 4,
 "nbformat_minor": 2
}
